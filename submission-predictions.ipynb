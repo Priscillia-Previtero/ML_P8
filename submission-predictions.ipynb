{
 "cells": [
  {
   "cell_type": "code",
   "execution_count": 1,
   "metadata": {
    "_cell_guid": "b1076dfc-b9ad-4769-8c92-a6c4dae69d19",
    "_uuid": "8f2839f25d086af736a60e9eeb907d3b93b6e0e5",
    "execution": {
<<<<<<< HEAD
     "iopub.execute_input": "2021-01-17T09:33:22.561704Z",
     "iopub.status.busy": "2021-01-17T09:33:22.560856Z",
     "iopub.status.idle": "2021-01-17T09:33:27.493215Z",
     "shell.execute_reply": "2021-01-17T09:33:27.494110Z"
    },
    "papermill": {
     "duration": 4.952242,
     "end_time": "2021-01-17T09:33:27.494357",
     "exception": false,
     "start_time": "2021-01-17T09:33:22.542115",
=======
     "iopub.execute_input": "2021-01-06T16:35:13.068865Z",
     "iopub.status.busy": "2021-01-06T16:35:13.068048Z",
     "iopub.status.idle": "2021-01-06T16:35:17.028425Z",
     "shell.execute_reply": "2021-01-06T16:35:17.026933Z"
    },
    "papermill": {
     "duration": 3.978233,
     "end_time": "2021-01-06T16:35:17.028553",
     "exception": false,
     "start_time": "2021-01-06T16:35:13.050320",
>>>>>>> d670779dea9ef5521fb8ee48488e0ddd6526fb87
     "status": "completed"
    },
    "tags": []
   },
   "outputs": [],
   "source": [
    "import numpy as np\n",
    "import pathlib\n",
    "import os\n",
    "import random\n",
    "import time\n",
    "import numba\n",
    "import gc \n",
    "import sys\n",
    "from tqdm.notebook import tqdm \n",
    "import cv2\n",
    "import warnings\n",
    "warnings.filterwarnings('ignore')\n",
    "\n",
    "#data structure\n",
    "import pandas as pd\n",
    "\n",
    "#tiff file\n",
    "import rasterio \n",
    "from rasterio.windows import Window \n",
    "\n",
    "#models\n",
    "import torch\n",
    "import torch.nn as nn\n",
    "\n",
    "#data augmentation\n",
    "import albumentations as A \n",
    "import torchvision\n",
    "from torchvision import transforms as T"
   ]
  },
  {
   "cell_type": "code",
   "execution_count": 2,
   "metadata": {
    "execution": {
<<<<<<< HEAD
     "iopub.execute_input": "2021-01-17T09:33:27.537030Z",
     "iopub.status.busy": "2021-01-17T09:33:27.535853Z",
     "iopub.status.idle": "2021-01-17T09:33:31.014302Z",
     "shell.execute_reply": "2021-01-17T09:33:31.015285Z"
    },
    "papermill": {
     "duration": 3.503257,
     "end_time": "2021-01-17T09:33:31.015458",
     "exception": false,
     "start_time": "2021-01-17T09:33:27.512201",
=======
     "iopub.execute_input": "2021-01-06T16:35:17.061420Z",
     "iopub.status.busy": "2021-01-06T16:35:17.056213Z",
     "iopub.status.idle": "2021-01-06T16:35:42.640158Z",
     "shell.execute_reply": "2021-01-06T16:35:42.639237Z"
    },
    "papermill": {
     "duration": 25.604071,
     "end_time": "2021-01-06T16:35:42.640306",
     "exception": false,
     "start_time": "2021-01-06T16:35:17.036235",
>>>>>>> d670779dea9ef5521fb8ee48488e0ddd6526fb87
     "status": "completed"
    },
    "tags": []
   },
<<<<<<< HEAD
   "outputs": [],
=======
   "outputs": [
    {
     "name": "stdout",
     "output_type": "stream",
     "text": [
      "Looking in links: /tmp/pip/cache/\r\n",
      "Processing /tmp/pip/cache/efficientnet_pytorch-0.6.3.tar.gz\r\n",
      "Requirement already satisfied: torch in /opt/conda/lib/python3.7/site-packages (from efficientnet-pytorch) (1.7.0)\r\n",
      "Requirement already satisfied: future in /opt/conda/lib/python3.7/site-packages (from torch->efficientnet-pytorch) (0.18.2)\r\n",
      "Requirement already satisfied: typing_extensions in /opt/conda/lib/python3.7/site-packages (from torch->efficientnet-pytorch) (3.7.4.1)\r\n",
      "Requirement already satisfied: dataclasses in /opt/conda/lib/python3.7/site-packages (from torch->efficientnet-pytorch) (0.6)\r\n",
      "Requirement already satisfied: numpy in /opt/conda/lib/python3.7/site-packages (from torch->efficientnet-pytorch) (1.18.5)\r\n",
      "Building wheels for collected packages: efficientnet-pytorch\r\n",
      "  Building wheel for efficientnet-pytorch (setup.py) ... \u001b[?25l-\b \b\\\b \bdone\r\n",
      "\u001b[?25h  Created wheel for efficientnet-pytorch: filename=efficientnet_pytorch-0.6.3-py3-none-any.whl size=12419 sha256=af18216f961da4974361e4b96a64337fcb1bdcd005251de962658aa7f5a26969\r\n",
      "  Stored in directory: /root/.cache/pip/wheels/13/61/ce/bb0a5a0cbdc953125d9e5eac180085769c9298201dcb8f81b4\r\n",
      "Successfully built efficientnet-pytorch\r\n",
      "Installing collected packages: efficientnet-pytorch\r\n",
      "Successfully installed efficientnet-pytorch-0.6.3\r\n",
      "Looking in links: /tmp/pip/cache/\r\n",
      "Processing /tmp/pip/cache/segmentation_models_pytorch-0.1.2.tar.gz\r\n",
      "Requirement already satisfied: torchvision>=0.3.0 in /opt/conda/lib/python3.7/site-packages (from segmentation-models-pytorch) (0.8.1)\r\n",
      "Requirement already satisfied: efficientnet-pytorch==0.6.3 in /opt/conda/lib/python3.7/site-packages (from segmentation-models-pytorch) (0.6.3)\r\n",
      "Requirement already satisfied: torch in /opt/conda/lib/python3.7/site-packages (from efficientnet-pytorch==0.6.3->segmentation-models-pytorch) (1.7.0)\r\n",
      "Processing /tmp/pip/cache/pretrainedmodels-0.7.4.tar.gz\r\n",
      "Requirement already satisfied: torch in /opt/conda/lib/python3.7/site-packages (from efficientnet-pytorch==0.6.3->segmentation-models-pytorch) (1.7.0)\r\n",
      "Requirement already satisfied: torchvision>=0.3.0 in /opt/conda/lib/python3.7/site-packages (from segmentation-models-pytorch) (0.8.1)\r\n",
      "Requirement already satisfied: munch in /opt/conda/lib/python3.7/site-packages (from pretrainedmodels==0.7.4->segmentation-models-pytorch) (2.5.0)\r\n",
      "Requirement already satisfied: tqdm in /opt/conda/lib/python3.7/site-packages (from pretrainedmodels==0.7.4->segmentation-models-pytorch) (4.45.0)\r\n",
      "Requirement already satisfied: six in /opt/conda/lib/python3.7/site-packages (from munch->pretrainedmodels==0.7.4->segmentation-models-pytorch) (1.14.0)\r\n",
      "Processing /tmp/pip/cache/timm-0.2.1-py3-none-any.whl\r\n",
      "Requirement already satisfied: torchvision>=0.3.0 in /opt/conda/lib/python3.7/site-packages (from segmentation-models-pytorch) (0.8.1)\r\n",
      "Requirement already satisfied: torch in /opt/conda/lib/python3.7/site-packages (from efficientnet-pytorch==0.6.3->segmentation-models-pytorch) (1.7.0)\r\n",
      "Requirement already satisfied: future in /opt/conda/lib/python3.7/site-packages (from torch->efficientnet-pytorch==0.6.3->segmentation-models-pytorch) (0.18.2)\r\n",
      "Requirement already satisfied: typing_extensions in /opt/conda/lib/python3.7/site-packages (from torch->efficientnet-pytorch==0.6.3->segmentation-models-pytorch) (3.7.4.1)\r\n",
      "Requirement already satisfied: dataclasses in /opt/conda/lib/python3.7/site-packages (from torch->efficientnet-pytorch==0.6.3->segmentation-models-pytorch) (0.6)\r\n",
      "Requirement already satisfied: numpy in /opt/conda/lib/python3.7/site-packages (from torch->efficientnet-pytorch==0.6.3->segmentation-models-pytorch) (1.18.5)\r\n",
      "Requirement already satisfied: numpy in /opt/conda/lib/python3.7/site-packages (from torch->efficientnet-pytorch==0.6.3->segmentation-models-pytorch) (1.18.5)\r\n",
      "Requirement already satisfied: torch in /opt/conda/lib/python3.7/site-packages (from efficientnet-pytorch==0.6.3->segmentation-models-pytorch) (1.7.0)\r\n",
      "Requirement already satisfied: pillow>=4.1.1 in /opt/conda/lib/python3.7/site-packages (from torchvision>=0.3.0->segmentation-models-pytorch) (8.0.1)\r\n",
      "Building wheels for collected packages: segmentation-models-pytorch, pretrainedmodels\r\n",
      "  Building wheel for segmentation-models-pytorch (setup.py) ... \u001b[?25l-\b \b\\\b \bdone\r\n",
      "\u001b[?25h  Created wheel for segmentation-models-pytorch: filename=segmentation_models_pytorch-0.1.2-py3-none-any.whl size=53937 sha256=1d104b5278e3005ecad2a45bad5d93861acb07eb35fadefd3e844487c1a1716a\r\n",
      "  Stored in directory: /root/.cache/pip/wheels/bb/77/6c/05a8ed505fef2924a75661b15743398af4d8f08b6ac9357e01\r\n",
      "  Building wheel for pretrainedmodels (setup.py) ... \u001b[?25l-\b \b\\\b \bdone\r\n",
      "\u001b[?25h  Created wheel for pretrainedmodels: filename=pretrainedmodels-0.7.4-py3-none-any.whl size=60962 sha256=a5aa12ab7b4656d034667ffdb4f5d27a56d2ae6f722d6440afe72952a3c9873e\r\n",
      "  Stored in directory: /root/.cache/pip/wheels/10/1f/03/61c3da39f4907ac6ad69ce8078e5be835c4681b842d110d52f\r\n",
      "Successfully built segmentation-models-pytorch pretrainedmodels\r\n",
      "Installing collected packages: timm, pretrainedmodels, segmentation-models-pytorch\r\n",
      "Successfully installed pretrainedmodels-0.7.4 segmentation-models-pytorch-0.1.2 timm-0.2.1\r\n"
     ]
    }
   ],
>>>>>>> d670779dea9ef5521fb8ee48488e0ddd6526fb87
   "source": [
    "import sys\n",
    "sys.path.append('../input/segmentation-models-pytorch/EfficientNet-PyTorch')\n",
    "sys.path.append('../input/segmentation-models-pytorch/pretrained-models.pytorch')\n",
    "sys.path.append('../input/segmentation-models-pytorch/pytorch-image-models')\n",
    "sys.path.append('../input/segmentation-models-pytorch/segmentation_models.pytorch')\n",
    "import segmentation_models_pytorch as smp"
   ]
  },
  {
   "cell_type": "code",
   "execution_count": 3,
   "metadata": {
    "_cell_guid": "79c7e3d0-c299-4dcb-8224-4455121ee9b0",
    "_uuid": "d629ff2d2480ee46fbb7e2d37f6b5fab8052498a",
    "execution": {
<<<<<<< HEAD
     "iopub.execute_input": "2021-01-17T09:33:31.042018Z",
     "iopub.status.busy": "2021-01-17T09:33:31.040037Z",
     "iopub.status.idle": "2021-01-17T09:33:31.042931Z",
     "shell.execute_reply": "2021-01-17T09:33:31.043470Z"
    },
    "papermill": {
     "duration": 0.019259,
     "end_time": "2021-01-17T09:33:31.043588",
     "exception": false,
     "start_time": "2021-01-17T09:33:31.024329",
=======
     "iopub.execute_input": "2021-01-06T16:35:42.678569Z",
     "iopub.status.busy": "2021-01-06T16:35:42.677916Z",
     "iopub.status.idle": "2021-01-06T16:35:42.682577Z",
     "shell.execute_reply": "2021-01-06T16:35:42.682056Z"
    },
    "papermill": {
     "duration": 0.026885,
     "end_time": "2021-01-06T16:35:42.682684",
     "exception": false,
     "start_time": "2021-01-06T16:35:42.655799",
>>>>>>> d670779dea9ef5521fb8ee48488e0ddd6526fb87
     "status": "completed"
    },
    "tags": []
   },
   "outputs": [],
   "source": [
    "def set_seeds(seed=21):\n",
    "    random.seed(seed)\n",
    "    os.environ['PYTHONHASHSEED'] = str(seed)\n",
    "    np.random.seed(seed)\n",
    "    torch.manual_seed(seed)\n",
    "    torch.cuda.manual_seed(seed)\n",
    "    torch.cuda.manual_seed_all(seed)\n",
    "    torch.backends.cudnn.deterministic = True"
   ]
  },
  {
   "cell_type": "code",
   "execution_count": 4,
   "metadata": {
    "execution": {
<<<<<<< HEAD
     "iopub.execute_input": "2021-01-17T09:33:31.428209Z",
     "iopub.status.busy": "2021-01-17T09:33:31.426676Z",
     "iopub.status.idle": "2021-01-17T09:33:31.434481Z",
     "shell.execute_reply": "2021-01-17T09:33:31.433174Z"
    },
    "papermill": {
     "duration": 0.3822,
     "end_time": "2021-01-17T09:33:31.434645",
     "exception": false,
     "start_time": "2021-01-17T09:33:31.052445",
=======
     "iopub.execute_input": "2021-01-06T16:35:43.103726Z",
     "iopub.status.busy": "2021-01-06T16:35:43.102686Z",
     "iopub.status.idle": "2021-01-06T16:35:43.113110Z",
     "shell.execute_reply": "2021-01-06T16:35:43.114284Z"
    },
    "papermill": {
     "duration": 0.41497,
     "end_time": "2021-01-06T16:35:43.114452",
     "exception": false,
     "start_time": "2021-01-06T16:35:42.699482",
>>>>>>> d670779dea9ef5521fb8ee48488e0ddd6526fb87
     "status": "completed"
    },
    "tags": []
   },
   "outputs": [],
   "source": [
    "BASE_DIR = '../input/hubmap-kidney-segmentation'\n",
    "SAVE_DIR = \"/kaggle/working/\"\n",
    "SEED = 21\n",
    "WINDOW = 1024\n",
    "NEW_SIZE = 512\n",
    "OVERLAP = 32 \n",
<<<<<<< HEAD
    "TH = 0.5\n",
=======
    "TH = 0.9\n",
>>>>>>> d670779dea9ef5521fb8ee48488e0ddd6526fb87
    "DEVICE = 'cuda' if torch.cuda.is_available() else 'cpu' \n",
    "\n",
    "torch.cuda.empty_cache()\n",
    "set_seeds();"
   ]
  },
  {
   "cell_type": "code",
   "execution_count": 5,
   "metadata": {
    "execution": {
<<<<<<< HEAD
     "iopub.execute_input": "2021-01-17T09:33:31.474728Z",
     "iopub.status.busy": "2021-01-17T09:33:31.462283Z",
     "iopub.status.idle": "2021-01-17T09:33:31.477742Z",
     "shell.execute_reply": "2021-01-17T09:33:31.477174Z"
    },
    "papermill": {
     "duration": 0.033325,
     "end_time": "2021-01-17T09:33:31.477865",
     "exception": false,
     "start_time": "2021-01-17T09:33:31.444540",
=======
     "iopub.execute_input": "2021-01-06T16:35:43.169791Z",
     "iopub.status.busy": "2021-01-06T16:35:43.168927Z",
     "iopub.status.idle": "2021-01-06T16:35:43.200650Z",
     "shell.execute_reply": "2021-01-06T16:35:43.199725Z"
    },
    "papermill": {
     "duration": 0.063437,
     "end_time": "2021-01-06T16:35:43.200813",
     "exception": false,
     "start_time": "2021-01-06T16:35:43.137376",
>>>>>>> d670779dea9ef5521fb8ee48488e0ddd6526fb87
     "status": "completed"
    },
    "tags": []
   },
   "outputs": [],
   "source": [
    "@numba.njit()\n",
    "def rle_numba(pixels):\n",
    "    size = len(pixels)\n",
    "    points = []\n",
    "    if pixels[0] == 1: \n",
    "        points.append(0)\n",
    "    flag = True\n",
    "    for i in range(1, size):\n",
    "        if pixels[i] != pixels[i-1]:\n",
    "            if flag:\n",
    "                points.append(i+1)\n",
    "                flag = False\n",
    "            else:\n",
    "                points.append(i+1 - points[-1])\n",
    "                flag = True\n",
    "    if pixels[-1] == 1: \n",
    "        points.append(size-points[-1]+1)    \n",
    "    return points\n",
    "\n",
    "def rle_numba_encode(image):\n",
    "    pixels = image.T.flatten()\n",
    "    points = rle_numba(pixels)\n",
    "    return ' '.join(str(x) for x in points)\n",
    "\n",
    "def make_grid(shape, window=WINDOW, min_overlap=OVERLAP):\n",
    "    \"\"\"\n",
    "        Return Array of size (N,4), where N - number of tiles,\n",
    "        2nd axis represente slices: x1,x2,y1,y2 \n",
    "    \"\"\"\n",
    "    x, y = shape\n",
    "    \n",
    "    nx = x // (window - min_overlap) + 1 \n",
    "    x1 = np.linspace(0, x, num=nx, endpoint=False, dtype=np.int64)\n",
    "    x1[-1] = x - window\n",
    "    x2 = (x1 + window).clip(0, x) \n",
    "    \n",
    "    ny = y // (window - min_overlap) + 1\n",
    "    y1 = np.linspace(0, y, num=ny, endpoint=False, dtype=np.int64)\n",
    "    y1[-1] = y - window\n",
    "    y2 = (y1 + window).clip(0, y)\n",
    "    \n",
    "    slices = np.zeros((nx,ny, 4), dtype=np.int64)\n",
    "    for i in range(nx):\n",
    "        for j in range(ny):\n",
    "            slices[i,j] = x1[i], x2[i], y1[j], y2[j]    \n",
    "    return slices.reshape(nx*ny,4)"
   ]
  },
  {
   "cell_type": "code",
   "execution_count": 6,
   "metadata": {
    "execution": {
<<<<<<< HEAD
     "iopub.execute_input": "2021-01-17T09:33:31.505139Z",
     "iopub.status.busy": "2021-01-17T09:33:31.503194Z",
     "iopub.status.idle": "2021-01-17T09:33:31.505811Z",
     "shell.execute_reply": "2021-01-17T09:33:31.506276Z"
    },
    "papermill": {
     "duration": 0.019223,
     "end_time": "2021-01-17T09:33:31.506382",
     "exception": false,
     "start_time": "2021-01-17T09:33:31.487159",
=======
     "iopub.execute_input": "2021-01-06T16:35:43.254635Z",
     "iopub.status.busy": "2021-01-06T16:35:43.253735Z",
     "iopub.status.idle": "2021-01-06T16:35:43.257463Z",
     "shell.execute_reply": "2021-01-06T16:35:43.258135Z"
    },
    "papermill": {
     "duration": 0.035765,
     "end_time": "2021-01-06T16:35:43.258344",
     "exception": false,
     "start_time": "2021-01-06T16:35:43.222579",
>>>>>>> d670779dea9ef5521fb8ee48488e0ddd6526fb87
     "status": "completed"
    },
    "tags": []
   },
   "outputs": [],
   "source": [
    "def to_tensor(x, **kwargs):\n",
    "    return x.transpose(2, 0, 1).astype('float32') \n",
    "\n",
    "def get_preprocessing():\n",
    "    _transform = [\n",
    "        A.Normalize(mean=(0.485, 0.456, 0.406), \n",
    "                    std=(0.229, 0.224, 0.225),\n",
    "                    max_pixel_value=255.0, always_apply=True, p=1.0),\n",
    "        A.Lambda(image=to_tensor, mask=to_tensor),\n",
    "    ]\n",
    "    return A.Compose(_transform)"
   ]
  },
  {
   "cell_type": "code",
   "execution_count": 7,
   "metadata": {
    "execution": {
<<<<<<< HEAD
     "iopub.execute_input": "2021-01-17T09:33:31.535185Z",
     "iopub.status.busy": "2021-01-17T09:33:31.534287Z",
     "iopub.status.idle": "2021-01-17T09:33:31.538014Z",
     "shell.execute_reply": "2021-01-17T09:33:31.538803Z"
    },
    "papermill": {
     "duration": 0.023422,
     "end_time": "2021-01-17T09:33:31.538919",
     "exception": false,
     "start_time": "2021-01-17T09:33:31.515497",
     "status": "completed"
    },
    "tags": []
   },
   "outputs": [],
   "source": [
    "identity_trfm = A.Lambda(image=lambda x,cols=None,rows=None : x)\n",
    "\n",
    "# Affine transforms\n",
    "horizontal_flip = A.HorizontalFlip(p=1.0)\n",
    "vertical_flip = A.VerticalFlip(p=1.0)\n",
    "rotate_cw = A.Rotate(limit=(-90, -90), p=1.0)\n",
    "rotate_acw = A.Rotate(limit=(90, 90), p=1.0)\n",
    "\n",
    "# Pixel level transformations\n",
    "pixel_level_trfms = A.OneOf([\n",
    "                        A.HueSaturationValue(10,15,10),\n",
    "                        A.CLAHE(clip_limit=2),\n",
    "                        A.RandomBrightnessContrast(),            \n",
    "                   ], p = 1.0)\n",
    "\n",
    "# List of augmentations for TTA\n",
    "tta_augs = [identity_trfm,\n",
    "            horizontal_flip,\n",
    "            vertical_flip,\n",
    "            rotate_cw]\n",
    "            # pixel_level_trfms]\n",
    "\n",
    "# List of deaugmentations corresponding to the above aug list\n",
    "tta_deaugs = [None,\n",
    "              horizontal_flip,\n",
    "              vertical_flip,\n",
    "              rotate_acw]\n",
    "              #None]"
   ]
  },
  {
   "cell_type": "code",
   "execution_count": 8,
   "metadata": {
    "execution": {
     "iopub.execute_input": "2021-01-17T09:33:31.565991Z",
     "iopub.status.busy": "2021-01-17T09:33:31.565356Z",
     "iopub.status.idle": "2021-01-17T09:33:46.878948Z",
     "shell.execute_reply": "2021-01-17T09:33:46.878366Z"
    },
    "papermill": {
     "duration": 15.330412,
     "end_time": "2021-01-17T09:33:46.879069",
     "exception": false,
     "start_time": "2021-01-17T09:33:31.548657",
=======
     "iopub.execute_input": "2021-01-06T16:35:43.321671Z",
     "iopub.status.busy": "2021-01-06T16:35:43.320373Z",
     "iopub.status.idle": "2021-01-06T16:35:50.675054Z",
     "shell.execute_reply": "2021-01-06T16:35:50.673853Z"
    },
    "papermill": {
     "duration": 7.393623,
     "end_time": "2021-01-06T16:35:50.675216",
     "exception": false,
     "start_time": "2021-01-06T16:35:43.281593",
>>>>>>> d670779dea9ef5521fb8ee48488e0ddd6526fb87
     "status": "completed"
    },
    "tags": []
   },
   "outputs": [],
   "source": [
    "p_model = pathlib.Path('../input/overlap-and-inference')\n",
    "ENCODER = 'efficientnet-b4'\n",
    "ACTIVATION = 'sigmoid' \n",
    "fold_models = []\n",
    "  \n",
    "for model_file in p_model.glob('*.pth'):\n",
    "    best_model = smp.Unet( \n",
    "        encoder_name=ENCODER, \n",
    "        encoder_weights=None,\n",
    "        activation=ACTIVATION,\n",
    "        in_channels=3,\n",
    "        classes=1)\n",
    "    best_model.load_state_dict(torch.load(model_file))\n",
    "    best_model.to(DEVICE)\n",
    "    fold_models.append(best_model)"
   ]
  },
  {
   "cell_type": "code",
   "execution_count": 9,
   "metadata": {
    "execution": {
<<<<<<< HEAD
     "iopub.execute_input": "2021-01-17T09:33:47.033789Z",
     "iopub.status.busy": "2021-01-17T09:33:47.032946Z",
     "iopub.status.idle": "2021-01-17T11:30:53.565245Z",
     "shell.execute_reply": "2021-01-17T11:30:53.567821Z"
    },
    "papermill": {
     "duration": 7026.680005,
     "end_time": "2021-01-17T11:30:53.569119",
     "exception": false,
     "start_time": "2021-01-17T09:33:46.889114",
=======
     "iopub.execute_input": "2021-01-06T16:35:50.733489Z",
     "iopub.status.busy": "2021-01-06T16:35:50.732678Z",
     "iopub.status.idle": "2021-01-06T16:47:45.602607Z",
     "shell.execute_reply": "2021-01-06T16:47:45.601646Z"
    },
    "papermill": {
     "duration": 714.909418,
     "end_time": "2021-01-06T16:47:45.602769",
     "exception": false,
     "start_time": "2021-01-06T16:35:50.693351",
>>>>>>> d670779dea9ef5521fb8ee48488e0ddd6526fb87
     "status": "completed"
    },
    "tags": []
   },
   "outputs": [
    {
     "data": {
      "application/vnd.jupyter.widget-view+json": {
<<<<<<< HEAD
       "model_id": "4b7f3829e8b54be6afe3a2414f9db72c",
=======
       "model_id": "b7e5d074315240c0b21dac75333aa1c4",
>>>>>>> d670779dea9ef5521fb8ee48488e0ddd6526fb87
       "version_major": 2,
       "version_minor": 0
      },
      "text/plain": [
       "HBox(children=(FloatProgress(value=0.0, max=5.0), HTML(value='')))"
      ]
     },
     "metadata": {},
     "output_type": "display_data"
    },
    {
     "name": "stdout",
     "output_type": "stream",
     "text": [
      "../input/hubmap-kidney-segmentation/test/afa5e8098.tiff\n"
     ]
    },
    {
     "data": {
      "application/vnd.jupyter.widget-view+json": {
<<<<<<< HEAD
       "model_id": "987f31edee8643688a91f1efe0862199",
=======
       "model_id": "a19150e396ff4774b7c7c2c405330b48",
>>>>>>> d670779dea9ef5521fb8ee48488e0ddd6526fb87
       "version_major": 2,
       "version_minor": 0
      },
      "text/plain": [
       "HBox(children=(FloatProgress(value=0.0, max=1710.0), HTML(value='')))"
      ]
     },
     "metadata": {},
     "output_type": "display_data"
    },
    {
     "name": "stdout",
     "output_type": "stream",
     "text": [
      "\n",
      "../input/hubmap-kidney-segmentation/test/b9a3865fc.tiff\n"
     ]
    },
    {
     "data": {
      "application/vnd.jupyter.widget-view+json": {
<<<<<<< HEAD
       "model_id": "2afab5ff4673433ab77cd339277e5d42",
=======
       "model_id": "923d0ff7a6974a46beea10986e9b389f",
>>>>>>> d670779dea9ef5521fb8ee48488e0ddd6526fb87
       "version_major": 2,
       "version_minor": 0
      },
      "text/plain": [
       "HBox(children=(FloatProgress(value=0.0, max=1312.0), HTML(value='')))"
      ]
     },
     "metadata": {},
     "output_type": "display_data"
    },
    {
     "name": "stdout",
     "output_type": "stream",
     "text": [
      "\n",
      "../input/hubmap-kidney-segmentation/test/c68fe75ea.tiff\n"
     ]
    },
    {
     "data": {
      "application/vnd.jupyter.widget-view+json": {
<<<<<<< HEAD
       "model_id": "a4db955604044bc8beb669879b7dc413",
=======
       "model_id": "13c182ecc9ea4ccc90f91bf8e23d9884",
>>>>>>> d670779dea9ef5521fb8ee48488e0ddd6526fb87
       "version_major": 2,
       "version_minor": 0
      },
      "text/plain": [
       "HBox(children=(FloatProgress(value=0.0, max=1428.0), HTML(value='')))"
      ]
     },
     "metadata": {},
     "output_type": "display_data"
    },
    {
     "name": "stdout",
     "output_type": "stream",
     "text": [
      "\n",
      "../input/hubmap-kidney-segmentation/test/b2dc8411c.tiff\n"
     ]
    },
    {
     "data": {
      "application/vnd.jupyter.widget-view+json": {
<<<<<<< HEAD
       "model_id": "bbe1801ef0b54edc899801a56a0dfd52",
=======
       "model_id": "41eb8aca8bcf45b4b03d29fc0a7383a6",
>>>>>>> d670779dea9ef5521fb8ee48488e0ddd6526fb87
       "version_major": 2,
       "version_minor": 0
      },
      "text/plain": [
       "HBox(children=(FloatProgress(value=0.0, max=480.0), HTML(value='')))"
      ]
     },
     "metadata": {},
     "output_type": "display_data"
    },
    {
     "name": "stdout",
     "output_type": "stream",
     "text": [
      "\n",
      "../input/hubmap-kidney-segmentation/test/26dc41664.tiff\n"
     ]
    },
    {
     "data": {
      "application/vnd.jupyter.widget-view+json": {
<<<<<<< HEAD
       "model_id": "8cd32f44ca9a4bcca7593360e67aa60a",
=======
       "model_id": "39a30c0a8fb44314bf3462af3c6c1eeb",
>>>>>>> d670779dea9ef5521fb8ee48488e0ddd6526fb87
       "version_major": 2,
       "version_minor": 0
      },
      "text/plain": [
       "HBox(children=(FloatProgress(value=0.0, max=1677.0), HTML(value='')))"
      ]
     },
     "metadata": {},
     "output_type": "display_data"
    },
    {
     "name": "stdout",
     "output_type": "stream",
     "text": [
      "\n",
      "\n"
     ]
    }
   ],
   "source": [
    "p_base = pathlib.Path(BASE_DIR)\n",
    "p_model = pathlib.Path('../input/overlap-and-inference')\n",
    "identity = rasterio.Affine(1, 0, 0, 0, 1, 0)\n",
    "subm = {}\n",
    "\n",
    "for i, filename in tqdm(enumerate(p_base.glob('test/*.tiff')), \n",
    "                        total = len(list(p_base.glob('test/*.tiff')))):\n",
    "    print(filename) \n",
    "    test_image_ds = rasterio.open(filename, transform=identity)\n",
    "    slices = make_grid(test_image_ds.shape, window=WINDOW, min_overlap=OVERLAP)\n",
    "    preds = np.zeros(test_image_ds.shape, dtype=np.uint8)\n",
    "       \n",
    "    for (x1,x2,y1,y2) in tqdm(slices):\n",
    "        #get slice image\n",
    "        image = test_image_ds.read([1,2,3],\n",
    "                    window=Window.from_slices((x1,x2),(y1,y2)))\n",
    "        image = np.moveaxis(image, 0, -1) \n",
    "        \n",
    "        pred = 0\n",
    "        for fold_model in fold_models:\n",
    "            #tta\n",
    "            tta_pred = None\n",
    "            for j, tta_aug in enumerate(tta_augs):\n",
    "                aug_img = tta_aug(image=image)['image']\n",
    "                aug_img = cv2.resize(aug_img, (NEW_SIZE, NEW_SIZE), interpolation=cv2.INTER_AREA)\n",
    "                aug_img = get_preprocessing()(image=aug_img)['image']\n",
    "                aug_img = torch.from_numpy(aug_img).to(DEVICE).unsqueeze(0)\n",
    "                \n",
    "                with torch.set_grad_enabled(False):\n",
    "                    pred_fold = fold_model.predict(aug_img) \n",
    "                    pred_fold = pred_fold.squeeze().cpu().numpy() \n",
    "                    if tta_deaugs[j] is not None: \n",
    "                        pred_fold = tta_deaugs[j](image=image, mask=pred_fold)['mask']\n",
    "                        \n",
    "                    if tta_pred is None:\n",
    "                        tta_pred = pred_fold\n",
    "                    else: \n",
    "                        tta_pred += pred_fold\n",
    "            tta_pred = tta_pred / len(tta_augs)\n",
    "            pred += tta_pred\n",
    "        \n",
    "        #merge preds\n",
    "        pred = pred / len(fold_models)\n",
    "        pred = cv2.resize(pred,(WINDOW, WINDOW), interpolation=cv2.INTER_AREA)\n",
    "        pred += preds[x1:x2, y1:y2]\n",
    "        preds[x1:x2, y1:y2] = (pred > TH).astype(np.uint8)\n",
    "    del slices, test_image_ds, fold_model, pred, image\n",
    "    gc.collect()\n",
    "           \n",
    "    # fusion or\n",
    "    preds = (preds > 0).astype(np.uint8) \n",
    "    subm[i] = {'id':filename.stem, 'predicted': rle_numba_encode(preds)}\n",
    "    del preds\n",
    "    gc.collect()"
   ]
  },
  {
   "cell_type": "code",
   "execution_count": 10,
   "metadata": {
    "execution": {
<<<<<<< HEAD
     "iopub.execute_input": "2021-01-17T11:30:53.621519Z",
     "iopub.status.busy": "2021-01-17T11:30:53.620736Z",
     "iopub.status.idle": "2021-01-17T11:30:54.673197Z",
     "shell.execute_reply": "2021-01-17T11:30:54.672642Z"
    },
    "papermill": {
     "duration": 1.084827,
     "end_time": "2021-01-17T11:30:54.673376",
     "exception": false,
     "start_time": "2021-01-17T11:30:53.588549",
=======
     "iopub.execute_input": "2021-01-06T16:47:45.673844Z",
     "iopub.status.busy": "2021-01-06T16:47:45.666657Z",
     "iopub.status.idle": "2021-01-06T16:47:46.740527Z",
     "shell.execute_reply": "2021-01-06T16:47:46.739876Z"
    },
    "papermill": {
     "duration": 1.110883,
     "end_time": "2021-01-06T16:47:46.740638",
     "exception": false,
     "start_time": "2021-01-06T16:47:45.629755",
>>>>>>> d670779dea9ef5521fb8ee48488e0ddd6526fb87
     "status": "completed"
    },
    "tags": []
   },
   "outputs": [
    {
     "data": {
      "text/html": [
       "<div>\n",
       "<style scoped>\n",
       "    .dataframe tbody tr th:only-of-type {\n",
       "        vertical-align: middle;\n",
       "    }\n",
       "\n",
       "    .dataframe tbody tr th {\n",
       "        vertical-align: top;\n",
       "    }\n",
       "\n",
       "    .dataframe thead th {\n",
       "        text-align: right;\n",
       "    }\n",
       "</style>\n",
       "<table border=\"1\" class=\"dataframe\">\n",
       "  <thead>\n",
       "    <tr style=\"text-align: right;\">\n",
       "      <th></th>\n",
       "      <th>id</th>\n",
       "      <th>predicted</th>\n",
       "    </tr>\n",
       "  </thead>\n",
       "  <tbody>\n",
       "    <tr>\n",
       "      <th>0</th>\n",
       "      <td>afa5e8098</td>\n",
<<<<<<< HEAD
       "      <td>66684357 14 66721157 14 66757945 34 66794745 3...</td>\n",
=======
       "      <td>15121903 2 15158703 2 15195501 10 15232301 10 ...</td>\n",
>>>>>>> d670779dea9ef5521fb8ee48488e0ddd6526fb87
       "    </tr>\n",
       "    <tr>\n",
       "      <th>1</th>\n",
       "      <td>b9a3865fc</td>\n",
<<<<<<< HEAD
       "      <td>61177976 40 61209271 40 61240556 60 61271851 6...</td>\n",
=======
       "      <td>61177962 52 61209257 52 61240546 70 61271841 7...</td>\n",
>>>>>>> d670779dea9ef5521fb8ee48488e0ddd6526fb87
       "    </tr>\n",
       "    <tr>\n",
       "      <th>2</th>\n",
       "      <td>c68fe75ea</td>\n",
<<<<<<< HEAD
       "      <td>21498351 30 21525191 30 21552023 52 21578863 5...</td>\n",
=======
       "      <td>21390995 30 21417835 30 21444669 44 21471509 4...</td>\n",
>>>>>>> d670779dea9ef5521fb8ee48488e0ddd6526fb87
       "    </tr>\n",
       "    <tr>\n",
       "      <th>3</th>\n",
       "      <td>b2dc8411c</td>\n",
<<<<<<< HEAD
       "      <td>56558494 44 56573338 44 56588174 70 56603018 7...</td>\n",
=======
       "      <td>56439746 28 56454590 28 56469428 46 56484272 4...</td>\n",
>>>>>>> d670779dea9ef5521fb8ee48488e0ddd6526fb87
       "    </tr>\n",
       "    <tr>\n",
       "      <th>4</th>\n",
       "      <td>26dc41664</td>\n",
<<<<<<< HEAD
       "      <td>246367231 12 246405391 12 246443541 36 2464817...</td>\n",
=======
       "      <td>149194869 6 149233029 6 149271183 14 149309343...</td>\n",
>>>>>>> d670779dea9ef5521fb8ee48488e0ddd6526fb87
       "    </tr>\n",
       "  </tbody>\n",
       "</table>\n",
       "</div>"
      ],
      "text/plain": [
       "          id                                          predicted\n",
<<<<<<< HEAD
       "0  afa5e8098  66684357 14 66721157 14 66757945 34 66794745 3...\n",
       "1  b9a3865fc  61177976 40 61209271 40 61240556 60 61271851 6...\n",
       "2  c68fe75ea  21498351 30 21525191 30 21552023 52 21578863 5...\n",
       "3  b2dc8411c  56558494 44 56573338 44 56588174 70 56603018 7...\n",
       "4  26dc41664  246367231 12 246405391 12 246443541 36 2464817..."
=======
       "0  afa5e8098  15121903 2 15158703 2 15195501 10 15232301 10 ...\n",
       "1  b9a3865fc  61177962 52 61209257 52 61240546 70 61271841 7...\n",
       "2  c68fe75ea  21390995 30 21417835 30 21444669 44 21471509 4...\n",
       "3  b2dc8411c  56439746 28 56454590 28 56469428 46 56484272 4...\n",
       "4  26dc41664  149194869 6 149233029 6 149271183 14 149309343..."
>>>>>>> d670779dea9ef5521fb8ee48488e0ddd6526fb87
      ]
     },
     "execution_count": 10,
     "metadata": {},
     "output_type": "execute_result"
    }
   ],
   "source": [
    "submission = pd.DataFrame.from_dict(subm, orient='index')\n",
    "submission.to_csv('submission.csv', index=False)\n",
    "submission.head()"
   ]
  }
 ],
 "metadata": {
  "kernelspec": {
   "display_name": "Python 3",
   "language": "python",
   "name": "python3"
  },
  "language_info": {
   "codemirror_mode": {
    "name": "ipython",
    "version": 3
   },
   "file_extension": ".py",
   "mimetype": "text/x-python",
   "name": "python",
   "nbconvert_exporter": "python",
   "pygments_lexer": "ipython3",
   "version": "3.7.6"
  },
  "papermill": {
<<<<<<< HEAD
   "duration": 7057.109416,
   "end_time": "2021-01-17T11:30:55.231610",
=======
   "duration": 758.855248,
   "end_time": "2021-01-06T16:47:47.302988",
>>>>>>> d670779dea9ef5521fb8ee48488e0ddd6526fb87
   "environment_variables": {},
   "exception": null,
   "input_path": "__notebook__.ipynb",
   "output_path": "__notebook__.ipynb",
   "parameters": {},
<<<<<<< HEAD
   "start_time": "2021-01-17T09:33:18.122194",
=======
   "start_time": "2021-01-06T16:35:08.447740",
>>>>>>> d670779dea9ef5521fb8ee48488e0ddd6526fb87
   "version": "2.1.0"
  },
  "widgets": {
   "application/vnd.jupyter.widget-state+json": {
    "state": {
<<<<<<< HEAD
     "02bebe8e2adc40caa668396775060136": {
=======
     "0a15760ab20b4887a8a588b29dbfad3e": {
      "model_module": "@jupyter-widgets/controls",
      "model_module_version": "1.5.0",
      "model_name": "DescriptionStyleModel",
      "state": {
       "_model_module": "@jupyter-widgets/controls",
       "_model_module_version": "1.5.0",
       "_model_name": "DescriptionStyleModel",
       "_view_count": null,
       "_view_module": "@jupyter-widgets/base",
       "_view_module_version": "1.2.0",
       "_view_name": "StyleView",
       "description_width": ""
      }
     },
     "106b5f8ea0934baf816e22243c4697e1": {
>>>>>>> d670779dea9ef5521fb8ee48488e0ddd6526fb87
      "model_module": "@jupyter-widgets/base",
      "model_module_version": "1.2.0",
      "model_name": "LayoutModel",
      "state": {
       "_model_module": "@jupyter-widgets/base",
       "_model_module_version": "1.2.0",
       "_model_name": "LayoutModel",
       "_view_count": null,
       "_view_module": "@jupyter-widgets/base",
       "_view_module_version": "1.2.0",
       "_view_name": "LayoutView",
       "align_content": null,
       "align_items": null,
       "align_self": null,
       "border": null,
       "bottom": null,
       "display": null,
       "flex": null,
       "flex_flow": null,
       "grid_area": null,
       "grid_auto_columns": null,
       "grid_auto_flow": null,
       "grid_auto_rows": null,
       "grid_column": null,
       "grid_gap": null,
       "grid_row": null,
       "grid_template_areas": null,
       "grid_template_columns": null,
       "grid_template_rows": null,
       "height": null,
       "justify_content": null,
       "justify_items": null,
       "left": null,
       "margin": null,
       "max_height": null,
       "max_width": null,
       "min_height": null,
       "min_width": null,
       "object_fit": null,
       "object_position": null,
       "order": null,
       "overflow": null,
       "overflow_x": null,
       "overflow_y": null,
       "padding": null,
       "right": null,
       "top": null,
       "visibility": null,
       "width": null
      }
     },
<<<<<<< HEAD
     "0508aa8b943e484294c994f9c1358170": {
=======
     "108a49d90c3b418b8e851c51856caf3b": {
      "model_module": "@jupyter-widgets/controls",
      "model_module_version": "1.5.0",
      "model_name": "DescriptionStyleModel",
      "state": {
       "_model_module": "@jupyter-widgets/controls",
       "_model_module_version": "1.5.0",
       "_model_name": "DescriptionStyleModel",
       "_view_count": null,
       "_view_module": "@jupyter-widgets/base",
       "_view_module_version": "1.2.0",
       "_view_name": "StyleView",
       "description_width": ""
      }
     },
     "13a9f788306d4a6797ca89c84545d5f3": {
>>>>>>> d670779dea9ef5521fb8ee48488e0ddd6526fb87
      "model_module": "@jupyter-widgets/base",
      "model_module_version": "1.2.0",
      "model_name": "LayoutModel",
      "state": {
       "_model_module": "@jupyter-widgets/base",
       "_model_module_version": "1.2.0",
       "_model_name": "LayoutModel",
       "_view_count": null,
       "_view_module": "@jupyter-widgets/base",
       "_view_module_version": "1.2.0",
       "_view_name": "LayoutView",
       "align_content": null,
       "align_items": null,
       "align_self": null,
       "border": null,
       "bottom": null,
       "display": null,
       "flex": null,
       "flex_flow": null,
       "grid_area": null,
       "grid_auto_columns": null,
       "grid_auto_flow": null,
       "grid_auto_rows": null,
       "grid_column": null,
       "grid_gap": null,
       "grid_row": null,
       "grid_template_areas": null,
       "grid_template_columns": null,
       "grid_template_rows": null,
       "height": null,
       "justify_content": null,
       "justify_items": null,
       "left": null,
       "margin": null,
       "max_height": null,
       "max_width": null,
       "min_height": null,
       "min_width": null,
       "object_fit": null,
       "object_position": null,
       "order": null,
       "overflow": null,
       "overflow_x": null,
       "overflow_y": null,
       "padding": null,
       "right": null,
       "top": null,
       "visibility": null,
       "width": null
      }
     },
<<<<<<< HEAD
     "05fc24a9a2f64abaabb4acf7e5ec0b92": {
      "model_module": "@jupyter-widgets/controls",
      "model_module_version": "1.5.0",
      "model_name": "DescriptionStyleModel",
=======
     "13c182ecc9ea4ccc90f91bf8e23d9884": {
      "model_module": "@jupyter-widgets/controls",
      "model_module_version": "1.5.0",
      "model_name": "HBoxModel",
>>>>>>> d670779dea9ef5521fb8ee48488e0ddd6526fb87
      "state": {
       "_model_module": "@jupyter-widgets/controls",
       "_model_module_version": "1.5.0",
<<<<<<< HEAD
       "_model_name": "DescriptionStyleModel",
       "_view_count": null,
       "_view_module": "@jupyter-widgets/base",
       "_view_module_version": "1.2.0",
       "_view_name": "StyleView",
       "description_width": ""
      }
     },
     "1b7b0abd031f44cea83ca2699a8ed0cd": {
=======
       "_model_name": "HBoxModel",
       "_view_count": null,
       "_view_module": "@jupyter-widgets/controls",
       "_view_module_version": "1.5.0",
       "_view_name": "HBoxView",
       "box_style": "",
       "children": [
        "IPY_MODEL_d7a6a8ffd934475daa32e4d7c0a9708e",
        "IPY_MODEL_452433b0f3354c8eb009b6fae9f446ca"
       ],
       "layout": "IPY_MODEL_18306c07e73740179459c4a69c8f733a"
      }
     },
     "18306c07e73740179459c4a69c8f733a": {
>>>>>>> d670779dea9ef5521fb8ee48488e0ddd6526fb87
      "model_module": "@jupyter-widgets/base",
      "model_module_version": "1.2.0",
      "model_name": "LayoutModel",
      "state": {
       "_model_module": "@jupyter-widgets/base",
       "_model_module_version": "1.2.0",
       "_model_name": "LayoutModel",
       "_view_count": null,
       "_view_module": "@jupyter-widgets/base",
       "_view_module_version": "1.2.0",
       "_view_name": "LayoutView",
       "align_content": null,
       "align_items": null,
       "align_self": null,
       "border": null,
       "bottom": null,
       "display": null,
       "flex": null,
       "flex_flow": null,
       "grid_area": null,
       "grid_auto_columns": null,
       "grid_auto_flow": null,
       "grid_auto_rows": null,
       "grid_column": null,
       "grid_gap": null,
       "grid_row": null,
       "grid_template_areas": null,
       "grid_template_columns": null,
       "grid_template_rows": null,
       "height": null,
       "justify_content": null,
       "justify_items": null,
       "left": null,
       "margin": null,
       "max_height": null,
       "max_width": null,
       "min_height": null,
       "min_width": null,
       "object_fit": null,
       "object_position": null,
       "order": null,
       "overflow": null,
       "overflow_x": null,
       "overflow_y": null,
       "padding": null,
       "right": null,
       "top": null,
       "visibility": null,
       "width": null
      }
     },
<<<<<<< HEAD
     "1e29447d81734257b28fb747f041168a": {
=======
     "18e57194f9204b368dbba60b131210f7": {
      "model_module": "@jupyter-widgets/controls",
      "model_module_version": "1.5.0",
      "model_name": "DescriptionStyleModel",
      "state": {
       "_model_module": "@jupyter-widgets/controls",
       "_model_module_version": "1.5.0",
       "_model_name": "DescriptionStyleModel",
       "_view_count": null,
       "_view_module": "@jupyter-widgets/base",
       "_view_module_version": "1.2.0",
       "_view_name": "StyleView",
       "description_width": ""
      }
     },
     "1e2fc775fc424956afe61737e6fe50d9": {
>>>>>>> d670779dea9ef5521fb8ee48488e0ddd6526fb87
      "model_module": "@jupyter-widgets/base",
      "model_module_version": "1.2.0",
      "model_name": "LayoutModel",
      "state": {
       "_model_module": "@jupyter-widgets/base",
       "_model_module_version": "1.2.0",
       "_model_name": "LayoutModel",
       "_view_count": null,
       "_view_module": "@jupyter-widgets/base",
       "_view_module_version": "1.2.0",
       "_view_name": "LayoutView",
       "align_content": null,
       "align_items": null,
       "align_self": null,
       "border": null,
       "bottom": null,
       "display": null,
       "flex": null,
       "flex_flow": null,
       "grid_area": null,
       "grid_auto_columns": null,
       "grid_auto_flow": null,
       "grid_auto_rows": null,
       "grid_column": null,
       "grid_gap": null,
       "grid_row": null,
       "grid_template_areas": null,
       "grid_template_columns": null,
       "grid_template_rows": null,
       "height": null,
       "justify_content": null,
       "justify_items": null,
       "left": null,
       "margin": null,
       "max_height": null,
       "max_width": null,
       "min_height": null,
       "min_width": null,
       "object_fit": null,
       "object_position": null,
       "order": null,
       "overflow": null,
       "overflow_x": null,
       "overflow_y": null,
       "padding": null,
       "right": null,
       "top": null,
       "visibility": null,
       "width": null
      }
     },
<<<<<<< HEAD
     "219b405839b04042900f4f0386810897": {
      "model_module": "@jupyter-widgets/controls",
      "model_module_version": "1.5.0",
      "model_name": "DescriptionStyleModel",
      "state": {
       "_model_module": "@jupyter-widgets/controls",
       "_model_module_version": "1.5.0",
       "_model_name": "DescriptionStyleModel",
       "_view_count": null,
       "_view_module": "@jupyter-widgets/base",
       "_view_module_version": "1.2.0",
       "_view_name": "StyleView",
       "description_width": ""
      }
     },
     "239738850d5945e887b8700c0106e803": {
      "model_module": "@jupyter-widgets/controls",
      "model_module_version": "1.5.0",
      "model_name": "DescriptionStyleModel",
      "state": {
       "_model_module": "@jupyter-widgets/controls",
       "_model_module_version": "1.5.0",
       "_model_name": "DescriptionStyleModel",
       "_view_count": null,
       "_view_module": "@jupyter-widgets/base",
       "_view_module_version": "1.2.0",
       "_view_name": "StyleView",
       "description_width": ""
      }
     },
     "29dd4f4b149947f5bb4155874f0f07da": {
=======
     "22804f08d07a4145a966fadf6afa0245": {
>>>>>>> d670779dea9ef5521fb8ee48488e0ddd6526fb87
      "model_module": "@jupyter-widgets/controls",
      "model_module_version": "1.5.0",
      "model_name": "FloatProgressModel",
      "state": {
       "_dom_classes": [],
       "_model_module": "@jupyter-widgets/controls",
       "_model_module_version": "1.5.0",
       "_model_name": "FloatProgressModel",
       "_view_count": null,
       "_view_module": "@jupyter-widgets/controls",
       "_view_module_version": "1.5.0",
       "_view_name": "ProgressView",
       "bar_style": "success",
       "description": "100%",
       "description_tooltip": null,
       "layout": "IPY_MODEL_812a2649c31f482db21b066627975923",
       "max": 1710.0,
       "min": 0.0,
       "orientation": "horizontal",
       "style": "IPY_MODEL_de81c9535c964d66b51bc078a1988ff5",
       "value": 1710.0
      }
     },
<<<<<<< HEAD
     "2afab5ff4673433ab77cd339277e5d42": {
      "model_module": "@jupyter-widgets/controls",
      "model_module_version": "1.5.0",
      "model_name": "HBoxModel",
      "state": {
       "_dom_classes": [],
       "_model_module": "@jupyter-widgets/controls",
       "_model_module_version": "1.5.0",
       "_model_name": "HBoxModel",
       "_view_count": null,
       "_view_module": "@jupyter-widgets/controls",
       "_view_module_version": "1.5.0",
       "_view_name": "HBoxView",
       "box_style": "",
       "children": [
        "IPY_MODEL_aa67a88bb8544fc185388c85d8fc4513",
        "IPY_MODEL_8b3f9b0bd47d458ea18779035d811747"
       ],
       "layout": "IPY_MODEL_fdc26fb3743b44f692d53f279dc935fe"
      }
     },
     "2e12a886785d472e9e1da1b490e4e964": {
      "model_module": "@jupyter-widgets/controls",
      "model_module_version": "1.5.0",
      "model_name": "HTMLModel",
      "state": {
       "_dom_classes": [],
       "_model_module": "@jupyter-widgets/controls",
       "_model_module_version": "1.5.0",
       "_model_name": "HTMLModel",
       "_view_count": null,
       "_view_module": "@jupyter-widgets/controls",
       "_view_module_version": "1.5.0",
       "_view_name": "HTMLView",
       "description": "",
       "description_tooltip": null,
       "layout": "IPY_MODEL_02bebe8e2adc40caa668396775060136",
       "placeholder": "​",
       "style": "IPY_MODEL_05fc24a9a2f64abaabb4acf7e5ec0b92",
       "value": " 1710/1710 [29:48&lt;00:00,  1.05s/it]"
      }
     },
     "41b93b902d1b47d9a95b33e4ec0042cc": {
=======
     "259cb18314e345aaa5a709c7062c48f2": {
>>>>>>> d670779dea9ef5521fb8ee48488e0ddd6526fb87
      "model_module": "@jupyter-widgets/base",
      "model_module_version": "1.2.0",
      "model_name": "LayoutModel",
      "state": {
       "_model_module": "@jupyter-widgets/base",
       "_model_module_version": "1.2.0",
       "_model_name": "LayoutModel",
       "_view_count": null,
       "_view_module": "@jupyter-widgets/base",
       "_view_module_version": "1.2.0",
       "_view_name": "LayoutView",
       "align_content": null,
       "align_items": null,
       "align_self": null,
       "border": null,
       "bottom": null,
       "display": null,
       "flex": null,
       "flex_flow": null,
       "grid_area": null,
       "grid_auto_columns": null,
       "grid_auto_flow": null,
       "grid_auto_rows": null,
       "grid_column": null,
       "grid_gap": null,
       "grid_row": null,
       "grid_template_areas": null,
       "grid_template_columns": null,
       "grid_template_rows": null,
       "height": null,
       "justify_content": null,
       "justify_items": null,
       "left": null,
       "margin": null,
       "max_height": null,
       "max_width": null,
       "min_height": null,
       "min_width": null,
       "object_fit": null,
       "object_position": null,
       "order": null,
       "overflow": null,
       "overflow_x": null,
       "overflow_y": null,
       "padding": null,
       "right": null,
       "top": null,
       "visibility": null,
       "width": null
      }
     },
<<<<<<< HEAD
     "48c370c87d4e401ab19b96bcc2668c71": {
=======
     "297af2c397e44cc3a8e93046cb01f80e": {
      "model_module": "@jupyter-widgets/controls",
      "model_module_version": "1.5.0",
      "model_name": "ProgressStyleModel",
      "state": {
       "_model_module": "@jupyter-widgets/controls",
       "_model_module_version": "1.5.0",
       "_model_name": "ProgressStyleModel",
       "_view_count": null,
       "_view_module": "@jupyter-widgets/base",
       "_view_module_version": "1.2.0",
       "_view_name": "StyleView",
       "bar_color": null,
       "description_width": "initial"
      }
     },
     "2bcf5a412deb44f6b9c76326ae269522": {
>>>>>>> d670779dea9ef5521fb8ee48488e0ddd6526fb87
      "model_module": "@jupyter-widgets/base",
      "model_module_version": "1.2.0",
      "model_name": "LayoutModel",
      "state": {
       "_model_module": "@jupyter-widgets/base",
       "_model_module_version": "1.2.0",
       "_model_name": "LayoutModel",
       "_view_count": null,
       "_view_module": "@jupyter-widgets/base",
       "_view_module_version": "1.2.0",
       "_view_name": "LayoutView",
       "align_content": null,
       "align_items": null,
       "align_self": null,
       "border": null,
       "bottom": null,
       "display": null,
       "flex": null,
       "flex_flow": null,
       "grid_area": null,
       "grid_auto_columns": null,
       "grid_auto_flow": null,
       "grid_auto_rows": null,
       "grid_column": null,
       "grid_gap": null,
       "grid_row": null,
       "grid_template_areas": null,
       "grid_template_columns": null,
       "grid_template_rows": null,
       "height": null,
       "justify_content": null,
       "justify_items": null,
       "left": null,
       "margin": null,
       "max_height": null,
       "max_width": null,
       "min_height": null,
       "min_width": null,
       "object_fit": null,
       "object_position": null,
       "order": null,
       "overflow": null,
       "overflow_x": null,
       "overflow_y": null,
       "padding": null,
       "right": null,
       "top": null,
       "visibility": null,
       "width": null
      }
     },
<<<<<<< HEAD
     "4b7f3829e8b54be6afe3a2414f9db72c": {
      "model_module": "@jupyter-widgets/controls",
      "model_module_version": "1.5.0",
      "model_name": "HBoxModel",
=======
     "2ff031498c004229965a554eebc8851b": {
      "model_module": "@jupyter-widgets/controls",
      "model_module_version": "1.5.0",
      "model_name": "DescriptionStyleModel",
>>>>>>> d670779dea9ef5521fb8ee48488e0ddd6526fb87
      "state": {
       "_model_module": "@jupyter-widgets/controls",
       "_model_module_version": "1.5.0",
<<<<<<< HEAD
       "_model_name": "HBoxModel",
       "_view_count": null,
       "_view_module": "@jupyter-widgets/controls",
       "_view_module_version": "1.5.0",
       "_view_name": "HBoxView",
       "box_style": "",
       "children": [
        "IPY_MODEL_cbb0b2e9c7de43c0a318f9800ac01636",
        "IPY_MODEL_929042da792e41299f144b910a57c409"
       ],
       "layout": "IPY_MODEL_d7a65493280749caa6b8b0ebc0813af3"
      }
     },
     "4d82f75b9e874cafafee17284c42c5ce": {
      "model_module": "@jupyter-widgets/controls",
      "model_module_version": "1.5.0",
      "model_name": "DescriptionStyleModel",
      "state": {
       "_model_module": "@jupyter-widgets/controls",
       "_model_module_version": "1.5.0",
       "_model_name": "DescriptionStyleModel",
       "_view_count": null,
=======
       "_model_name": "DescriptionStyleModel",
       "_view_count": null,
>>>>>>> d670779dea9ef5521fb8ee48488e0ddd6526fb87
       "_view_module": "@jupyter-widgets/base",
       "_view_module_version": "1.2.0",
       "_view_name": "StyleView",
       "description_width": ""
      }
     },
<<<<<<< HEAD
     "553c5bf7eb2e4d2e9c6b81a0065126cb": {
=======
     "3881f31e83e3471582dac5ff3c34fd68": {
>>>>>>> d670779dea9ef5521fb8ee48488e0ddd6526fb87
      "model_module": "@jupyter-widgets/controls",
      "model_module_version": "1.5.0",
      "model_name": "FloatProgressModel",
      "state": {
       "_dom_classes": [],
       "_model_module": "@jupyter-widgets/controls",
       "_model_module_version": "1.5.0",
       "_model_name": "FloatProgressModel",
       "_view_count": null,
       "_view_module": "@jupyter-widgets/controls",
       "_view_module_version": "1.5.0",
       "_view_name": "ProgressView",
       "bar_style": "success",
       "description": "100%",
       "description_tooltip": null,
<<<<<<< HEAD
       "layout": "IPY_MODEL_1e29447d81734257b28fb747f041168a",
       "max": 1710.0,
       "min": 0.0,
       "orientation": "horizontal",
       "style": "IPY_MODEL_bfc699c1caa048aaa35fd6f5326879fc",
       "value": 1710.0
      }
     },
     "554a33f6a63e4cde953b6900d1d9097c": {
      "model_module": "@jupyter-widgets/base",
      "model_module_version": "1.2.0",
      "model_name": "LayoutModel",
=======
       "layout": "IPY_MODEL_73eb7ef43cd148f88f55defd82a84d69",
       "max": 480.0,
       "min": 0.0,
       "orientation": "horizontal",
       "style": "IPY_MODEL_696adf5b52814e718d2034a53ef88b5c",
       "value": 480.0
      }
     },
     "39a30c0a8fb44314bf3462af3c6c1eeb": {
      "model_module": "@jupyter-widgets/controls",
      "model_module_version": "1.5.0",
      "model_name": "HBoxModel",
>>>>>>> d670779dea9ef5521fb8ee48488e0ddd6526fb87
      "state": {
       "_dom_classes": [],
       "_model_module": "@jupyter-widgets/controls",
       "_model_module_version": "1.5.0",
       "_model_name": "HBoxModel",
       "_view_count": null,
       "_view_module": "@jupyter-widgets/controls",
       "_view_module_version": "1.5.0",
       "_view_name": "HBoxView",
       "box_style": "",
       "children": [
        "IPY_MODEL_dd60124fb95a447ca6ae41e57eb61ca4",
        "IPY_MODEL_5bf6da75a57748fd811bda73be327f63"
       ],
       "layout": "IPY_MODEL_259cb18314e345aaa5a709c7062c48f2"
      }
     },
<<<<<<< HEAD
     "55ebfdfb091748e985adbfa1fb7bf6f3": {
      "model_module": "@jupyter-widgets/controls",
      "model_module_version": "1.5.0",
      "model_name": "FloatProgressModel",
=======
     "40e9caebe40c4bd3b819710eb16c9348": {
      "model_module": "@jupyter-widgets/base",
      "model_module_version": "1.2.0",
      "model_name": "LayoutModel",
>>>>>>> d670779dea9ef5521fb8ee48488e0ddd6526fb87
      "state": {
       "_dom_classes": [],
       "_model_module": "@jupyter-widgets/controls",
       "_model_module_version": "1.5.0",
       "_model_name": "FloatProgressModel",
       "_view_count": null,
       "_view_module": "@jupyter-widgets/controls",
       "_view_module_version": "1.5.0",
       "_view_name": "ProgressView",
       "bar_style": "success",
       "description": "100%",
       "description_tooltip": null,
       "layout": "IPY_MODEL_d1626818577c4fe8a4ecbc4921468b22",
       "max": 1428.0,
       "min": 0.0,
       "orientation": "horizontal",
       "style": "IPY_MODEL_ca38fbb32acb4e3dac75900fa41cdd63",
       "value": 1428.0
      }
     },
<<<<<<< HEAD
     "59fc1d27ac644a1a8b656421d04b7b8c": {
=======
     "41eb8aca8bcf45b4b03d29fc0a7383a6": {
>>>>>>> d670779dea9ef5521fb8ee48488e0ddd6526fb87
      "model_module": "@jupyter-widgets/controls",
      "model_module_version": "1.5.0",
      "model_name": "HTMLModel",
      "state": {
       "_dom_classes": [],
       "_model_module": "@jupyter-widgets/controls",
       "_model_module_version": "1.5.0",
       "_model_name": "HTMLModel",
       "_view_count": null,
       "_view_module": "@jupyter-widgets/controls",
       "_view_module_version": "1.5.0",
<<<<<<< HEAD
       "_view_name": "HTMLView",
       "description": "",
       "description_tooltip": null,
       "layout": "IPY_MODEL_48c370c87d4e401ab19b96bcc2668c71",
       "placeholder": "​",
       "style": "IPY_MODEL_219b405839b04042900f4f0386810897",
       "value": " 1677/1677 [29:32&lt;00:00,  1.06s/it]"
      }
     },
     "5b0414dea662417095b5057947e944b2": {
=======
       "_view_name": "HBoxView",
       "box_style": "",
       "children": [
        "IPY_MODEL_3881f31e83e3471582dac5ff3c34fd68",
        "IPY_MODEL_7bd838ebb0394939aba065bf23c18994"
       ],
       "layout": "IPY_MODEL_40e9caebe40c4bd3b819710eb16c9348"
      }
     },
     "452433b0f3354c8eb009b6fae9f446ca": {
>>>>>>> d670779dea9ef5521fb8ee48488e0ddd6526fb87
      "model_module": "@jupyter-widgets/controls",
      "model_module_version": "1.5.0",
      "model_name": "HTMLModel",
      "state": {
       "_dom_classes": [],
       "_model_module": "@jupyter-widgets/controls",
       "_model_module_version": "1.5.0",
       "_model_name": "HTMLModel",
       "_view_count": null,
       "_view_module": "@jupyter-widgets/controls",
       "_view_module_version": "1.5.0",
       "_view_name": "HTMLView",
       "description": "",
       "description_tooltip": null,
<<<<<<< HEAD
       "layout": "IPY_MODEL_f2dc5d1628564f1d9cd0610b254ca86b",
       "placeholder": "​",
       "style": "IPY_MODEL_737231cd4ef04871a58af81fbc4662b9",
       "value": " 480/480 [37:39&lt;00:00,  4.71s/it]"
      }
     },
     "613a2ac84266429b9b3ace2500b6b819": {
=======
       "layout": "IPY_MODEL_13a9f788306d4a6797ca89c84545d5f3",
       "placeholder": "​",
       "style": "IPY_MODEL_2ff031498c004229965a554eebc8851b",
       "value": " 1428/1428 [02:57&lt;00:00,  8.05it/s]"
      }
     },
     "471e535a23c4465fbb4ce3aa0e0e3de5": {
>>>>>>> d670779dea9ef5521fb8ee48488e0ddd6526fb87
      "model_module": "@jupyter-widgets/base",
      "model_module_version": "1.2.0",
      "model_name": "LayoutModel",
      "state": {
       "_model_module": "@jupyter-widgets/base",
       "_model_module_version": "1.2.0",
       "_model_name": "LayoutModel",
       "_view_count": null,
       "_view_module": "@jupyter-widgets/base",
       "_view_module_version": "1.2.0",
       "_view_name": "LayoutView",
       "align_content": null,
       "align_items": null,
       "align_self": null,
       "border": null,
       "bottom": null,
       "display": null,
       "flex": null,
       "flex_flow": null,
       "grid_area": null,
       "grid_auto_columns": null,
       "grid_auto_flow": null,
       "grid_auto_rows": null,
       "grid_column": null,
       "grid_gap": null,
       "grid_row": null,
       "grid_template_areas": null,
       "grid_template_columns": null,
       "grid_template_rows": null,
       "height": null,
       "justify_content": null,
       "justify_items": null,
       "left": null,
       "margin": null,
       "max_height": null,
       "max_width": null,
       "min_height": null,
       "min_width": null,
       "object_fit": null,
       "object_position": null,
       "order": null,
       "overflow": null,
       "overflow_x": null,
       "overflow_y": null,
       "padding": null,
       "right": null,
       "top": null,
       "visibility": null,
       "width": null
      }
     },
<<<<<<< HEAD
     "737231cd4ef04871a58af81fbc4662b9": {
      "model_module": "@jupyter-widgets/controls",
      "model_module_version": "1.5.0",
      "model_name": "DescriptionStyleModel",
      "state": {
       "_model_module": "@jupyter-widgets/controls",
       "_model_module_version": "1.5.0",
       "_model_name": "DescriptionStyleModel",
       "_view_count": null,
       "_view_module": "@jupyter-widgets/base",
       "_view_module_version": "1.2.0",
       "_view_name": "StyleView",
       "description_width": ""
      }
     },
     "809a3fdf64d74df98c0a2e5a944801f1": {
=======
     "490501d71f09439789b83029e20f84a0": {
>>>>>>> d670779dea9ef5521fb8ee48488e0ddd6526fb87
      "model_module": "@jupyter-widgets/controls",
      "model_module_version": "1.5.0",
      "model_name": "FloatProgressModel",
      "state": {
       "_dom_classes": [],
       "_model_module": "@jupyter-widgets/controls",
       "_model_module_version": "1.5.0",
       "_model_name": "FloatProgressModel",
       "_view_count": null,
<<<<<<< HEAD
=======
       "_view_module": "@jupyter-widgets/controls",
       "_view_module_version": "1.5.0",
       "_view_name": "ProgressView",
       "bar_style": "success",
       "description": "100%",
       "description_tooltip": null,
       "layout": "IPY_MODEL_f9cc6e3ded7941638b58f50f34dea3c5",
       "max": 1312.0,
       "min": 0.0,
       "orientation": "horizontal",
       "style": "IPY_MODEL_53f8c33b361445a3a2468cbf459c23ae",
       "value": 1312.0
      }
     },
     "4f4646b83c68485184407063797abcdc": {
      "model_module": "@jupyter-widgets/controls",
      "model_module_version": "1.5.0",
      "model_name": "DescriptionStyleModel",
      "state": {
       "_model_module": "@jupyter-widgets/controls",
       "_model_module_version": "1.5.0",
       "_model_name": "DescriptionStyleModel",
       "_view_count": null,
       "_view_module": "@jupyter-widgets/base",
       "_view_module_version": "1.2.0",
       "_view_name": "StyleView",
       "description_width": ""
      }
     },
     "53f8c33b361445a3a2468cbf459c23ae": {
      "model_module": "@jupyter-widgets/controls",
      "model_module_version": "1.5.0",
      "model_name": "ProgressStyleModel",
      "state": {
       "_model_module": "@jupyter-widgets/controls",
       "_model_module_version": "1.5.0",
       "_model_name": "ProgressStyleModel",
       "_view_count": null,
>>>>>>> d670779dea9ef5521fb8ee48488e0ddd6526fb87
       "_view_module": "@jupyter-widgets/base",
       "_view_module_version": "1.2.0",
       "_view_name": "StyleView",
       "bar_color": null,
       "description_width": "initial"
      }
     },
<<<<<<< HEAD
     "8b3f9b0bd47d458ea18779035d811747": {
=======
     "5bf6da75a57748fd811bda73be327f63": {
>>>>>>> d670779dea9ef5521fb8ee48488e0ddd6526fb87
      "model_module": "@jupyter-widgets/controls",
      "model_module_version": "1.5.0",
      "model_name": "HTMLModel",
      "state": {
       "_dom_classes": [],
       "_model_module": "@jupyter-widgets/controls",
       "_model_module_version": "1.5.0",
       "_model_name": "HTMLModel",
       "_view_count": null,
       "_view_module": "@jupyter-widgets/controls",
       "_view_module_version": "1.5.0",
       "_view_name": "HTMLView",
       "description": "",
       "description_tooltip": null,
<<<<<<< HEAD
       "layout": "IPY_MODEL_41b93b902d1b47d9a95b33e4ec0042cc",
       "placeholder": "​",
       "style": "IPY_MODEL_b7da0ffd259245588cdca5a837502945",
       "value": " 1312/1312 [23:40&lt;00:00,  1.08s/it]"
      }
     },
     "8b7c7a36d19743dea9908b1d047a2b3a": {
      "model_module": "@jupyter-widgets/controls",
      "model_module_version": "1.5.0",
      "model_name": "HTMLModel",
      "state": {
       "_dom_classes": [],
       "_model_module": "@jupyter-widgets/controls",
       "_model_module_version": "1.5.0",
       "_model_name": "HTMLModel",
       "_view_count": null,
       "_view_module": "@jupyter-widgets/controls",
       "_view_module_version": "1.5.0",
       "_view_name": "HTMLView",
       "description": "",
       "description_tooltip": null,
       "layout": "IPY_MODEL_a9f2e1f689d943c79302df4208922232",
       "placeholder": "​",
       "style": "IPY_MODEL_4d82f75b9e874cafafee17284c42c5ce",
       "value": " 1428/1428 [25:37&lt;00:00,  1.08s/it]"
      }
     },
     "8c3b424a59a948adb51706cbd294c0af": {
=======
       "layout": "IPY_MODEL_106b5f8ea0934baf816e22243c4697e1",
       "placeholder": "​",
       "style": "IPY_MODEL_6b0b561b92f04d2eb46a76ff5404b943",
       "value": " 1677/1677 [03:04&lt;00:00,  9.09it/s]"
      }
     },
     "696adf5b52814e718d2034a53ef88b5c": {
      "model_module": "@jupyter-widgets/controls",
      "model_module_version": "1.5.0",
      "model_name": "ProgressStyleModel",
      "state": {
       "_model_module": "@jupyter-widgets/controls",
       "_model_module_version": "1.5.0",
       "_model_name": "ProgressStyleModel",
       "_view_count": null,
       "_view_module": "@jupyter-widgets/base",
       "_view_module_version": "1.2.0",
       "_view_name": "StyleView",
       "bar_color": null,
       "description_width": "initial"
      }
     },
     "6b0b561b92f04d2eb46a76ff5404b943": {
      "model_module": "@jupyter-widgets/controls",
      "model_module_version": "1.5.0",
      "model_name": "DescriptionStyleModel",
      "state": {
       "_model_module": "@jupyter-widgets/controls",
       "_model_module_version": "1.5.0",
       "_model_name": "DescriptionStyleModel",
       "_view_count": null,
       "_view_module": "@jupyter-widgets/base",
       "_view_module_version": "1.2.0",
       "_view_name": "StyleView",
       "description_width": ""
      }
     },
     "73eb7ef43cd148f88f55defd82a84d69": {
>>>>>>> d670779dea9ef5521fb8ee48488e0ddd6526fb87
      "model_module": "@jupyter-widgets/base",
      "model_module_version": "1.2.0",
      "model_name": "LayoutModel",
      "state": {
       "_model_module": "@jupyter-widgets/base",
       "_model_module_version": "1.2.0",
       "_model_name": "LayoutModel",
       "_view_count": null,
       "_view_module": "@jupyter-widgets/base",
       "_view_module_version": "1.2.0",
       "_view_name": "LayoutView",
       "align_content": null,
       "align_items": null,
       "align_self": null,
       "border": null,
       "bottom": null,
       "display": null,
       "flex": null,
       "flex_flow": null,
       "grid_area": null,
       "grid_auto_columns": null,
       "grid_auto_flow": null,
       "grid_auto_rows": null,
       "grid_column": null,
       "grid_gap": null,
       "grid_row": null,
       "grid_template_areas": null,
       "grid_template_columns": null,
       "grid_template_rows": null,
       "height": null,
       "justify_content": null,
       "justify_items": null,
       "left": null,
       "margin": null,
       "max_height": null,
       "max_width": null,
       "min_height": null,
       "min_width": null,
       "object_fit": null,
       "object_position": null,
       "order": null,
       "overflow": null,
       "overflow_x": null,
       "overflow_y": null,
       "padding": null,
       "right": null,
       "top": null,
       "visibility": null,
       "width": null
      }
     },
<<<<<<< HEAD
     "8cd32f44ca9a4bcca7593360e67aa60a": {
      "model_module": "@jupyter-widgets/controls",
      "model_module_version": "1.5.0",
      "model_name": "HBoxModel",
=======
     "7bd838ebb0394939aba065bf23c18994": {
      "model_module": "@jupyter-widgets/controls",
      "model_module_version": "1.5.0",
      "model_name": "HTMLModel",
>>>>>>> d670779dea9ef5521fb8ee48488e0ddd6526fb87
      "state": {
       "_dom_classes": [],
       "_model_module": "@jupyter-widgets/controls",
       "_model_module_version": "1.5.0",
<<<<<<< HEAD
       "_model_name": "HBoxModel",
       "_view_count": null,
       "_view_module": "@jupyter-widgets/controls",
       "_view_module_version": "1.5.0",
       "_view_name": "HBoxView",
       "box_style": "",
       "children": [
        "IPY_MODEL_af6720db8c57446d94e4b7c6a4c57d44",
        "IPY_MODEL_59fc1d27ac644a1a8b656421d04b7b8c"
       ],
       "layout": "IPY_MODEL_8c3b424a59a948adb51706cbd294c0af"
      }
     },
     "8fb59b6b65ec4f9aab04ff8ec8496d5c": {
=======
       "_model_name": "HTMLModel",
       "_view_count": null,
       "_view_module": "@jupyter-widgets/controls",
       "_view_module_version": "1.5.0",
       "_view_name": "HTMLView",
       "description": "",
       "description_tooltip": null,
       "layout": "IPY_MODEL_2bcf5a412deb44f6b9c76326ae269522",
       "placeholder": "​",
       "style": "IPY_MODEL_4f4646b83c68485184407063797abcdc",
       "value": " 480/480 [03:41&lt;00:00,  2.17it/s]"
      }
     },
     "812a2649c31f482db21b066627975923": {
>>>>>>> d670779dea9ef5521fb8ee48488e0ddd6526fb87
      "model_module": "@jupyter-widgets/base",
      "model_module_version": "1.2.0",
      "model_name": "LayoutModel",
      "state": {
       "_model_module": "@jupyter-widgets/base",
       "_model_module_version": "1.2.0",
       "_model_name": "LayoutModel",
       "_view_count": null,
       "_view_module": "@jupyter-widgets/base",
       "_view_module_version": "1.2.0",
       "_view_name": "LayoutView",
       "align_content": null,
       "align_items": null,
       "align_self": null,
       "border": null,
       "bottom": null,
       "display": null,
       "flex": null,
       "flex_flow": null,
       "grid_area": null,
       "grid_auto_columns": null,
       "grid_auto_flow": null,
       "grid_auto_rows": null,
       "grid_column": null,
       "grid_gap": null,
       "grid_row": null,
       "grid_template_areas": null,
       "grid_template_columns": null,
       "grid_template_rows": null,
       "height": null,
       "justify_content": null,
       "justify_items": null,
       "left": null,
       "margin": null,
       "max_height": null,
       "max_width": null,
       "min_height": null,
       "min_width": null,
       "object_fit": null,
       "object_position": null,
       "order": null,
       "overflow": null,
       "overflow_x": null,
       "overflow_y": null,
       "padding": null,
       "right": null,
       "top": null,
       "visibility": null,
       "width": null
      }
     },
<<<<<<< HEAD
     "929042da792e41299f144b910a57c409": {
      "model_module": "@jupyter-widgets/controls",
      "model_module_version": "1.5.0",
      "model_name": "HTMLModel",
      "state": {
       "_dom_classes": [],
       "_model_module": "@jupyter-widgets/controls",
       "_model_module_version": "1.5.0",
       "_model_name": "HTMLModel",
       "_view_count": null,
       "_view_module": "@jupyter-widgets/controls",
       "_view_module_version": "1.5.0",
       "_view_name": "HTMLView",
       "description": "",
       "description_tooltip": null,
       "layout": "IPY_MODEL_554a33f6a63e4cde953b6900d1d9097c",
       "placeholder": "​",
       "style": "IPY_MODEL_239738850d5945e887b8700c0106e803",
       "value": " 5/5 [1:57:06&lt;00:00, 1405.30s/it]"
      }
     },
     "93c68f89331b4557b5dedb1347477497": {
=======
     "86b9bc2639eb410e9b48f57dd8bb5b14": {
      "model_module": "@jupyter-widgets/base",
      "model_module_version": "1.2.0",
      "model_name": "LayoutModel",
      "state": {
       "_model_module": "@jupyter-widgets/base",
       "_model_module_version": "1.2.0",
       "_model_name": "LayoutModel",
       "_view_count": null,
       "_view_module": "@jupyter-widgets/base",
       "_view_module_version": "1.2.0",
       "_view_name": "LayoutView",
       "align_content": null,
       "align_items": null,
       "align_self": null,
       "border": null,
       "bottom": null,
       "display": null,
       "flex": null,
       "flex_flow": null,
       "grid_area": null,
       "grid_auto_columns": null,
       "grid_auto_flow": null,
       "grid_auto_rows": null,
       "grid_column": null,
       "grid_gap": null,
       "grid_row": null,
       "grid_template_areas": null,
       "grid_template_columns": null,
       "grid_template_rows": null,
       "height": null,
       "justify_content": null,
       "justify_items": null,
       "left": null,
       "margin": null,
       "max_height": null,
       "max_width": null,
       "min_height": null,
       "min_width": null,
       "object_fit": null,
       "object_position": null,
       "order": null,
       "overflow": null,
       "overflow_x": null,
       "overflow_y": null,
       "padding": null,
       "right": null,
       "top": null,
       "visibility": null,
       "width": null
      }
     },
     "8d1a5c83b3074ea49a6d130627a39d2d": {
>>>>>>> d670779dea9ef5521fb8ee48488e0ddd6526fb87
      "model_module": "@jupyter-widgets/base",
      "model_module_version": "1.2.0",
      "model_name": "LayoutModel",
      "state": {
       "_model_module": "@jupyter-widgets/base",
       "_model_module_version": "1.2.0",
       "_model_name": "LayoutModel",
       "_view_count": null,
       "_view_module": "@jupyter-widgets/base",
       "_view_module_version": "1.2.0",
       "_view_name": "LayoutView",
       "align_content": null,
       "align_items": null,
       "align_self": null,
       "border": null,
       "bottom": null,
       "display": null,
       "flex": null,
       "flex_flow": null,
       "grid_area": null,
       "grid_auto_columns": null,
       "grid_auto_flow": null,
       "grid_auto_rows": null,
       "grid_column": null,
       "grid_gap": null,
       "grid_row": null,
       "grid_template_areas": null,
       "grid_template_columns": null,
       "grid_template_rows": null,
       "height": null,
       "justify_content": null,
       "justify_items": null,
       "left": null,
       "margin": null,
       "max_height": null,
       "max_width": null,
       "min_height": null,
       "min_width": null,
       "object_fit": null,
       "object_position": null,
       "order": null,
       "overflow": null,
       "overflow_x": null,
       "overflow_y": null,
       "padding": null,
       "right": null,
       "top": null,
       "visibility": null,
       "width": null
      }
     },
<<<<<<< HEAD
     "987f31edee8643688a91f1efe0862199": {
=======
     "923d0ff7a6974a46beea10986e9b389f": {
>>>>>>> d670779dea9ef5521fb8ee48488e0ddd6526fb87
      "model_module": "@jupyter-widgets/controls",
      "model_module_version": "1.5.0",
      "model_name": "HBoxModel",
      "state": {
       "_dom_classes": [],
       "_model_module": "@jupyter-widgets/controls",
       "_model_module_version": "1.5.0",
       "_model_name": "HBoxModel",
       "_view_count": null,
       "_view_module": "@jupyter-widgets/controls",
       "_view_module_version": "1.5.0",
       "_view_name": "HBoxView",
       "box_style": "",
       "children": [
<<<<<<< HEAD
        "IPY_MODEL_553c5bf7eb2e4d2e9c6b81a0065126cb",
        "IPY_MODEL_2e12a886785d472e9e1da1b490e4e964"
       ],
       "layout": "IPY_MODEL_9ebb3f922a8a40358692cdff68e2040e"
      }
     },
     "9ebb3f922a8a40358692cdff68e2040e": {
=======
        "IPY_MODEL_490501d71f09439789b83029e20f84a0",
        "IPY_MODEL_edcf8056e6904b479ea315f5f53b80b0"
       ],
       "layout": "IPY_MODEL_a3dc4823bd39424b8a690efa3b76de01"
      }
     },
     "9bdffd1be72a4fd58cdc91bb5fa9dc2f": {
      "model_module": "@jupyter-widgets/controls",
      "model_module_version": "1.5.0",
      "model_name": "ProgressStyleModel",
      "state": {
       "_model_module": "@jupyter-widgets/controls",
       "_model_module_version": "1.5.0",
       "_model_name": "ProgressStyleModel",
       "_view_count": null,
       "_view_module": "@jupyter-widgets/base",
       "_view_module_version": "1.2.0",
       "_view_name": "StyleView",
       "bar_color": null,
       "description_width": "initial"
      }
     },
     "a19150e396ff4774b7c7c2c405330b48": {
      "model_module": "@jupyter-widgets/controls",
      "model_module_version": "1.5.0",
      "model_name": "HBoxModel",
      "state": {
       "_dom_classes": [],
       "_model_module": "@jupyter-widgets/controls",
       "_model_module_version": "1.5.0",
       "_model_name": "HBoxModel",
       "_view_count": null,
       "_view_module": "@jupyter-widgets/controls",
       "_view_module_version": "1.5.0",
       "_view_name": "HBoxView",
       "box_style": "",
       "children": [
        "IPY_MODEL_22804f08d07a4145a966fadf6afa0245",
        "IPY_MODEL_b70c5ca8a3e843089065c9d9ebd45640"
       ],
       "layout": "IPY_MODEL_471e535a23c4465fbb4ce3aa0e0e3de5"
      }
     },
     "a3dc4823bd39424b8a690efa3b76de01": {
>>>>>>> d670779dea9ef5521fb8ee48488e0ddd6526fb87
      "model_module": "@jupyter-widgets/base",
      "model_module_version": "1.2.0",
      "model_name": "LayoutModel",
      "state": {
       "_model_module": "@jupyter-widgets/base",
       "_model_module_version": "1.2.0",
       "_model_name": "LayoutModel",
       "_view_count": null,
       "_view_module": "@jupyter-widgets/base",
       "_view_module_version": "1.2.0",
       "_view_name": "LayoutView",
       "align_content": null,
       "align_items": null,
       "align_self": null,
       "border": null,
       "bottom": null,
       "display": null,
       "flex": null,
       "flex_flow": null,
       "grid_area": null,
       "grid_auto_columns": null,
       "grid_auto_flow": null,
       "grid_auto_rows": null,
       "grid_column": null,
       "grid_gap": null,
       "grid_row": null,
       "grid_template_areas": null,
       "grid_template_columns": null,
       "grid_template_rows": null,
       "height": null,
       "justify_content": null,
       "justify_items": null,
       "left": null,
       "margin": null,
       "max_height": null,
       "max_width": null,
       "min_height": null,
       "min_width": null,
       "object_fit": null,
       "object_position": null,
       "order": null,
       "overflow": null,
       "overflow_x": null,
       "overflow_y": null,
       "padding": null,
       "right": null,
       "top": null,
       "visibility": null,
       "width": null
      }
     },
<<<<<<< HEAD
     "a4db955604044bc8beb669879b7dc413": {
=======
     "b5d075cae59c4398802dee760340c00c": {
      "model_module": "@jupyter-widgets/controls",
      "model_module_version": "1.5.0",
      "model_name": "ProgressStyleModel",
      "state": {
       "_model_module": "@jupyter-widgets/controls",
       "_model_module_version": "1.5.0",
       "_model_name": "ProgressStyleModel",
       "_view_count": null,
       "_view_module": "@jupyter-widgets/base",
       "_view_module_version": "1.2.0",
       "_view_name": "StyleView",
       "bar_color": null,
       "description_width": "initial"
      }
     },
     "b70c5ca8a3e843089065c9d9ebd45640": {
      "model_module": "@jupyter-widgets/controls",
      "model_module_version": "1.5.0",
      "model_name": "HTMLModel",
      "state": {
       "_dom_classes": [],
       "_model_module": "@jupyter-widgets/controls",
       "_model_module_version": "1.5.0",
       "_model_name": "HTMLModel",
       "_view_count": null,
       "_view_module": "@jupyter-widgets/controls",
       "_view_module_version": "1.5.0",
       "_view_name": "HTMLView",
       "description": "",
       "description_tooltip": null,
       "layout": "IPY_MODEL_86b9bc2639eb410e9b48f57dd8bb5b14",
       "placeholder": "​",
       "style": "IPY_MODEL_0a15760ab20b4887a8a588b29dbfad3e",
       "value": " 1710/1710 [02:32&lt;00:00, 11.23it/s]"
      }
     },
     "b7e5d074315240c0b21dac75333aa1c4": {
>>>>>>> d670779dea9ef5521fb8ee48488e0ddd6526fb87
      "model_module": "@jupyter-widgets/controls",
      "model_module_version": "1.5.0",
      "model_name": "HBoxModel",
      "state": {
       "_dom_classes": [],
       "_model_module": "@jupyter-widgets/controls",
       "_model_module_version": "1.5.0",
       "_model_name": "HBoxModel",
       "_view_count": null,
       "_view_module": "@jupyter-widgets/controls",
       "_view_module_version": "1.5.0",
       "_view_name": "HBoxView",
       "box_style": "",
       "children": [
<<<<<<< HEAD
        "IPY_MODEL_55ebfdfb091748e985adbfa1fb7bf6f3",
        "IPY_MODEL_8b7c7a36d19743dea9908b1d047a2b3a"
       ],
       "layout": "IPY_MODEL_93c68f89331b4557b5dedb1347477497"
      }
     },
     "a9f2e1f689d943c79302df4208922232": {
=======
        "IPY_MODEL_d4c66b76244942d5ae4d646535e83027",
        "IPY_MODEL_ed73665d8efe4dd18d9c17575a5c3626"
       ],
       "layout": "IPY_MODEL_be0adc6851744581ae92f57b1801ee3f"
      }
     },
     "be0adc6851744581ae92f57b1801ee3f": {
>>>>>>> d670779dea9ef5521fb8ee48488e0ddd6526fb87
      "model_module": "@jupyter-widgets/base",
      "model_module_version": "1.2.0",
      "model_name": "LayoutModel",
      "state": {
       "_model_module": "@jupyter-widgets/base",
       "_model_module_version": "1.2.0",
       "_model_name": "LayoutModel",
       "_view_count": null,
       "_view_module": "@jupyter-widgets/base",
       "_view_module_version": "1.2.0",
       "_view_name": "LayoutView",
       "align_content": null,
       "align_items": null,
       "align_self": null,
       "border": null,
       "bottom": null,
       "display": null,
       "flex": null,
       "flex_flow": null,
       "grid_area": null,
       "grid_auto_columns": null,
       "grid_auto_flow": null,
       "grid_auto_rows": null,
       "grid_column": null,
       "grid_gap": null,
       "grid_row": null,
       "grid_template_areas": null,
       "grid_template_columns": null,
       "grid_template_rows": null,
       "height": null,
       "justify_content": null,
       "justify_items": null,
       "left": null,
       "margin": null,
       "max_height": null,
       "max_width": null,
       "min_height": null,
       "min_width": null,
       "object_fit": null,
       "object_position": null,
       "order": null,
       "overflow": null,
       "overflow_x": null,
       "overflow_y": null,
       "padding": null,
       "right": null,
       "top": null,
       "visibility": null,
       "width": null
      }
     },
<<<<<<< HEAD
     "aa67a88bb8544fc185388c85d8fc4513": {
=======
     "d4c66b76244942d5ae4d646535e83027": {
>>>>>>> d670779dea9ef5521fb8ee48488e0ddd6526fb87
      "model_module": "@jupyter-widgets/controls",
      "model_module_version": "1.5.0",
      "model_name": "FloatProgressModel",
      "state": {
       "_dom_classes": [],
       "_model_module": "@jupyter-widgets/controls",
       "_model_module_version": "1.5.0",
       "_model_name": "FloatProgressModel",
       "_view_count": null,
       "_view_module": "@jupyter-widgets/controls",
       "_view_module_version": "1.5.0",
       "_view_name": "ProgressView",
       "bar_style": "success",
       "description": "100%",
       "description_tooltip": null,
<<<<<<< HEAD
       "layout": "IPY_MODEL_613a2ac84266429b9b3ace2500b6b819",
       "max": 1312.0,
       "min": 0.0,
       "orientation": "horizontal",
       "style": "IPY_MODEL_809a3fdf64d74df98c0a2e5a944801f1",
       "value": 1312.0
      }
     },
     "af6720db8c57446d94e4b7c6a4c57d44": {
=======
       "layout": "IPY_MODEL_1e2fc775fc424956afe61737e6fe50d9",
       "max": 5.0,
       "min": 0.0,
       "orientation": "horizontal",
       "style": "IPY_MODEL_297af2c397e44cc3a8e93046cb01f80e",
       "value": 5.0
      }
     },
     "d7a6a8ffd934475daa32e4d7c0a9708e": {
>>>>>>> d670779dea9ef5521fb8ee48488e0ddd6526fb87
      "model_module": "@jupyter-widgets/controls",
      "model_module_version": "1.5.0",
      "model_name": "FloatProgressModel",
      "state": {
       "_dom_classes": [],
       "_model_module": "@jupyter-widgets/controls",
       "_model_module_version": "1.5.0",
       "_model_name": "FloatProgressModel",
       "_view_count": null,
       "_view_module": "@jupyter-widgets/controls",
       "_view_module_version": "1.5.0",
       "_view_name": "ProgressView",
       "bar_style": "success",
       "description": "100%",
       "description_tooltip": null,
<<<<<<< HEAD
       "layout": "IPY_MODEL_8fb59b6b65ec4f9aab04ff8ec8496d5c",
       "max": 1677.0,
       "min": 0.0,
       "orientation": "horizontal",
       "style": "IPY_MODEL_bcc88653444b480c8cfd1284993863db",
       "value": 1677.0
      }
     },
     "b7da0ffd259245588cdca5a837502945": {
      "model_module": "@jupyter-widgets/controls",
      "model_module_version": "1.5.0",
      "model_name": "DescriptionStyleModel",
      "state": {
       "_model_module": "@jupyter-widgets/controls",
       "_model_module_version": "1.5.0",
       "_model_name": "DescriptionStyleModel",
       "_view_count": null,
       "_view_module": "@jupyter-widgets/base",
       "_view_module_version": "1.2.0",
       "_view_name": "StyleView",
       "description_width": ""
      }
     },
     "bbe1801ef0b54edc899801a56a0dfd52": {
      "model_module": "@jupyter-widgets/controls",
      "model_module_version": "1.5.0",
      "model_name": "HBoxModel",
      "state": {
       "_dom_classes": [],
       "_model_module": "@jupyter-widgets/controls",
       "_model_module_version": "1.5.0",
       "_model_name": "HBoxModel",
       "_view_count": null,
       "_view_module": "@jupyter-widgets/controls",
       "_view_module_version": "1.5.0",
       "_view_name": "HBoxView",
       "box_style": "",
       "children": [
        "IPY_MODEL_c2129b789929406a886f3cfe1c961a7b",
        "IPY_MODEL_5b0414dea662417095b5057947e944b2"
       ],
       "layout": "IPY_MODEL_0508aa8b943e484294c994f9c1358170"
      }
     },
     "bcc88653444b480c8cfd1284993863db": {
      "model_module": "@jupyter-widgets/controls",
      "model_module_version": "1.5.0",
      "model_name": "ProgressStyleModel",
      "state": {
       "_model_module": "@jupyter-widgets/controls",
       "_model_module_version": "1.5.0",
       "_model_name": "ProgressStyleModel",
       "_view_count": null,
       "_view_module": "@jupyter-widgets/base",
       "_view_module_version": "1.2.0",
       "_view_name": "StyleView",
       "bar_color": null,
       "description_width": "initial"
      }
     },
     "bfc699c1caa048aaa35fd6f5326879fc": {
=======
       "layout": "IPY_MODEL_e6298841d053470c8e13c535434296cf",
       "max": 1428.0,
       "min": 0.0,
       "orientation": "horizontal",
       "style": "IPY_MODEL_b5d075cae59c4398802dee760340c00c",
       "value": 1428.0
      }
     },
     "dd60124fb95a447ca6ae41e57eb61ca4": {
      "model_module": "@jupyter-widgets/controls",
      "model_module_version": "1.5.0",
      "model_name": "FloatProgressModel",
      "state": {
       "_dom_classes": [],
       "_model_module": "@jupyter-widgets/controls",
       "_model_module_version": "1.5.0",
       "_model_name": "FloatProgressModel",
       "_view_count": null,
       "_view_module": "@jupyter-widgets/controls",
       "_view_module_version": "1.5.0",
       "_view_name": "ProgressView",
       "bar_style": "success",
       "description": "100%",
       "description_tooltip": null,
       "layout": "IPY_MODEL_ff4130c2068b4e0695c843a12a5d1c3b",
       "max": 1677.0,
       "min": 0.0,
       "orientation": "horizontal",
       "style": "IPY_MODEL_9bdffd1be72a4fd58cdc91bb5fa9dc2f",
       "value": 1677.0
      }
     },
     "de81c9535c964d66b51bc078a1988ff5": {
>>>>>>> d670779dea9ef5521fb8ee48488e0ddd6526fb87
      "model_module": "@jupyter-widgets/controls",
      "model_module_version": "1.5.0",
      "model_name": "ProgressStyleModel",
      "state": {
       "_model_module": "@jupyter-widgets/controls",
       "_model_module_version": "1.5.0",
       "_model_name": "ProgressStyleModel",
       "_view_count": null,
       "_view_module": "@jupyter-widgets/base",
       "_view_module_version": "1.2.0",
       "_view_name": "StyleView",
       "bar_color": null,
       "description_width": "initial"
      }
     },
<<<<<<< HEAD
     "c2129b789929406a886f3cfe1c961a7b": {
      "model_module": "@jupyter-widgets/controls",
      "model_module_version": "1.5.0",
      "model_name": "FloatProgressModel",
      "state": {
       "_dom_classes": [],
       "_model_module": "@jupyter-widgets/controls",
       "_model_module_version": "1.5.0",
       "_model_name": "FloatProgressModel",
       "_view_count": null,
       "_view_module": "@jupyter-widgets/controls",
       "_view_module_version": "1.5.0",
       "_view_name": "ProgressView",
       "bar_style": "success",
       "description": "100%",
       "description_tooltip": null,
       "layout": "IPY_MODEL_c8b3e4a8752242329910b53f4f1906f4",
       "max": 480.0,
       "min": 0.0,
       "orientation": "horizontal",
       "style": "IPY_MODEL_e322b6d8097f474e81f90e2f6a4b9a32",
       "value": 480.0
      }
     },
     "c8b3e4a8752242329910b53f4f1906f4": {
=======
     "e6298841d053470c8e13c535434296cf": {
>>>>>>> d670779dea9ef5521fb8ee48488e0ddd6526fb87
      "model_module": "@jupyter-widgets/base",
      "model_module_version": "1.2.0",
      "model_name": "LayoutModel",
      "state": {
       "_model_module": "@jupyter-widgets/base",
       "_model_module_version": "1.2.0",
       "_model_name": "LayoutModel",
       "_view_count": null,
       "_view_module": "@jupyter-widgets/base",
       "_view_module_version": "1.2.0",
       "_view_name": "LayoutView",
       "align_content": null,
       "align_items": null,
       "align_self": null,
       "border": null,
       "bottom": null,
       "display": null,
       "flex": null,
       "flex_flow": null,
       "grid_area": null,
       "grid_auto_columns": null,
       "grid_auto_flow": null,
       "grid_auto_rows": null,
       "grid_column": null,
       "grid_gap": null,
       "grid_row": null,
       "grid_template_areas": null,
       "grid_template_columns": null,
       "grid_template_rows": null,
       "height": null,
       "justify_content": null,
       "justify_items": null,
       "left": null,
       "margin": null,
       "max_height": null,
       "max_width": null,
       "min_height": null,
       "min_width": null,
       "object_fit": null,
       "object_position": null,
       "order": null,
       "overflow": null,
       "overflow_x": null,
       "overflow_y": null,
       "padding": null,
       "right": null,
       "top": null,
       "visibility": null,
       "width": null
      }
     },
<<<<<<< HEAD
     "ca38fbb32acb4e3dac75900fa41cdd63": {
      "model_module": "@jupyter-widgets/controls",
      "model_module_version": "1.5.0",
      "model_name": "ProgressStyleModel",
      "state": {
       "_model_module": "@jupyter-widgets/controls",
       "_model_module_version": "1.5.0",
       "_model_name": "ProgressStyleModel",
       "_view_count": null,
       "_view_module": "@jupyter-widgets/base",
       "_view_module_version": "1.2.0",
       "_view_name": "StyleView",
       "bar_color": null,
       "description_width": "initial"
      }
     },
     "cbb0b2e9c7de43c0a318f9800ac01636": {
=======
     "ed73665d8efe4dd18d9c17575a5c3626": {
>>>>>>> d670779dea9ef5521fb8ee48488e0ddd6526fb87
      "model_module": "@jupyter-widgets/controls",
      "model_module_version": "1.5.0",
      "model_name": "HTMLModel",
      "state": {
       "_dom_classes": [],
       "_model_module": "@jupyter-widgets/controls",
       "_model_module_version": "1.5.0",
       "_model_name": "HTMLModel",
       "_view_count": null,
       "_view_module": "@jupyter-widgets/controls",
       "_view_module_version": "1.5.0",
       "_view_name": "HTMLView",
       "description": "",
       "description_tooltip": null,
<<<<<<< HEAD
       "layout": "IPY_MODEL_1b7b0abd031f44cea83ca2699a8ed0cd",
       "max": 5.0,
       "min": 0.0,
       "orientation": "horizontal",
       "style": "IPY_MODEL_29dd4f4b149947f5bb4155874f0f07da",
       "value": 5.0
      }
     },
     "d1626818577c4fe8a4ecbc4921468b22": {
=======
       "layout": "IPY_MODEL_8d1a5c83b3074ea49a6d130627a39d2d",
       "placeholder": "​",
       "style": "IPY_MODEL_108a49d90c3b418b8e851c51856caf3b",
       "value": " 5/5 [11:54&lt;00:00, 142.97s/it]"
      }
     },
     "edcf8056e6904b479ea315f5f53b80b0": {
      "model_module": "@jupyter-widgets/controls",
      "model_module_version": "1.5.0",
      "model_name": "HTMLModel",
      "state": {
       "_dom_classes": [],
       "_model_module": "@jupyter-widgets/controls",
       "_model_module_version": "1.5.0",
       "_model_name": "HTMLModel",
       "_view_count": null,
       "_view_module": "@jupyter-widgets/controls",
       "_view_module_version": "1.5.0",
       "_view_name": "HTMLView",
       "description": "",
       "description_tooltip": null,
       "layout": "IPY_MODEL_f3e951ca28bc45e5ac9514b2c5fb6bd0",
       "placeholder": "​",
       "style": "IPY_MODEL_18e57194f9204b368dbba60b131210f7",
       "value": " 1312/1312 [02:21&lt;00:00,  9.27it/s]"
      }
     },
     "f3e951ca28bc45e5ac9514b2c5fb6bd0": {
>>>>>>> d670779dea9ef5521fb8ee48488e0ddd6526fb87
      "model_module": "@jupyter-widgets/base",
      "model_module_version": "1.2.0",
      "model_name": "LayoutModel",
      "state": {
       "_model_module": "@jupyter-widgets/base",
       "_model_module_version": "1.2.0",
       "_model_name": "LayoutModel",
       "_view_count": null,
       "_view_module": "@jupyter-widgets/base",
       "_view_module_version": "1.2.0",
       "_view_name": "LayoutView",
       "align_content": null,
       "align_items": null,
       "align_self": null,
       "border": null,
       "bottom": null,
       "display": null,
       "flex": null,
       "flex_flow": null,
       "grid_area": null,
       "grid_auto_columns": null,
       "grid_auto_flow": null,
       "grid_auto_rows": null,
       "grid_column": null,
       "grid_gap": null,
       "grid_row": null,
       "grid_template_areas": null,
       "grid_template_columns": null,
       "grid_template_rows": null,
       "height": null,
       "justify_content": null,
       "justify_items": null,
       "left": null,
       "margin": null,
       "max_height": null,
       "max_width": null,
       "min_height": null,
       "min_width": null,
       "object_fit": null,
       "object_position": null,
       "order": null,
       "overflow": null,
       "overflow_x": null,
       "overflow_y": null,
       "padding": null,
       "right": null,
       "top": null,
       "visibility": null,
       "width": null
      }
     },
<<<<<<< HEAD
     "d7a65493280749caa6b8b0ebc0813af3": {
      "model_module": "@jupyter-widgets/base",
      "model_module_version": "1.2.0",
      "model_name": "LayoutModel",
      "state": {
       "_model_module": "@jupyter-widgets/base",
       "_model_module_version": "1.2.0",
       "_model_name": "LayoutModel",
       "_view_count": null,
       "_view_module": "@jupyter-widgets/base",
       "_view_module_version": "1.2.0",
       "_view_name": "LayoutView",
       "align_content": null,
       "align_items": null,
       "align_self": null,
       "border": null,
       "bottom": null,
       "display": null,
       "flex": null,
       "flex_flow": null,
       "grid_area": null,
       "grid_auto_columns": null,
       "grid_auto_flow": null,
       "grid_auto_rows": null,
       "grid_column": null,
       "grid_gap": null,
       "grid_row": null,
       "grid_template_areas": null,
       "grid_template_columns": null,
       "grid_template_rows": null,
       "height": null,
       "justify_content": null,
       "justify_items": null,
       "left": null,
       "margin": null,
       "max_height": null,
       "max_width": null,
       "min_height": null,
       "min_width": null,
       "object_fit": null,
       "object_position": null,
       "order": null,
       "overflow": null,
       "overflow_x": null,
       "overflow_y": null,
       "padding": null,
       "right": null,
       "top": null,
       "visibility": null,
       "width": null
      }
     },
     "e322b6d8097f474e81f90e2f6a4b9a32": {
      "model_module": "@jupyter-widgets/controls",
      "model_module_version": "1.5.0",
      "model_name": "ProgressStyleModel",
      "state": {
       "_model_module": "@jupyter-widgets/controls",
       "_model_module_version": "1.5.0",
       "_model_name": "ProgressStyleModel",
       "_view_count": null,
       "_view_module": "@jupyter-widgets/base",
       "_view_module_version": "1.2.0",
       "_view_name": "StyleView",
       "bar_color": null,
       "description_width": "initial"
      }
     },
     "f2dc5d1628564f1d9cd0610b254ca86b": {
=======
     "f9cc6e3ded7941638b58f50f34dea3c5": {
>>>>>>> d670779dea9ef5521fb8ee48488e0ddd6526fb87
      "model_module": "@jupyter-widgets/base",
      "model_module_version": "1.2.0",
      "model_name": "LayoutModel",
      "state": {
       "_model_module": "@jupyter-widgets/base",
       "_model_module_version": "1.2.0",
       "_model_name": "LayoutModel",
       "_view_count": null,
       "_view_module": "@jupyter-widgets/base",
       "_view_module_version": "1.2.0",
       "_view_name": "LayoutView",
       "align_content": null,
       "align_items": null,
       "align_self": null,
       "border": null,
       "bottom": null,
       "display": null,
       "flex": null,
       "flex_flow": null,
       "grid_area": null,
       "grid_auto_columns": null,
       "grid_auto_flow": null,
       "grid_auto_rows": null,
       "grid_column": null,
       "grid_gap": null,
       "grid_row": null,
       "grid_template_areas": null,
       "grid_template_columns": null,
       "grid_template_rows": null,
       "height": null,
       "justify_content": null,
       "justify_items": null,
       "left": null,
       "margin": null,
       "max_height": null,
       "max_width": null,
       "min_height": null,
       "min_width": null,
       "object_fit": null,
       "object_position": null,
       "order": null,
       "overflow": null,
       "overflow_x": null,
       "overflow_y": null,
       "padding": null,
       "right": null,
       "top": null,
       "visibility": null,
       "width": null
      }
     },
<<<<<<< HEAD
     "fdc26fb3743b44f692d53f279dc935fe": {
=======
     "ff4130c2068b4e0695c843a12a5d1c3b": {
>>>>>>> d670779dea9ef5521fb8ee48488e0ddd6526fb87
      "model_module": "@jupyter-widgets/base",
      "model_module_version": "1.2.0",
      "model_name": "LayoutModel",
      "state": {
       "_model_module": "@jupyter-widgets/base",
       "_model_module_version": "1.2.0",
       "_model_name": "LayoutModel",
       "_view_count": null,
       "_view_module": "@jupyter-widgets/base",
       "_view_module_version": "1.2.0",
       "_view_name": "LayoutView",
       "align_content": null,
       "align_items": null,
       "align_self": null,
       "border": null,
       "bottom": null,
       "display": null,
       "flex": null,
       "flex_flow": null,
       "grid_area": null,
       "grid_auto_columns": null,
       "grid_auto_flow": null,
       "grid_auto_rows": null,
       "grid_column": null,
       "grid_gap": null,
       "grid_row": null,
       "grid_template_areas": null,
       "grid_template_columns": null,
       "grid_template_rows": null,
       "height": null,
       "justify_content": null,
       "justify_items": null,
       "left": null,
       "margin": null,
       "max_height": null,
       "max_width": null,
       "min_height": null,
       "min_width": null,
       "object_fit": null,
       "object_position": null,
       "order": null,
       "overflow": null,
       "overflow_x": null,
       "overflow_y": null,
       "padding": null,
       "right": null,
       "top": null,
       "visibility": null,
       "width": null
      }
     }
    },
    "version_major": 2,
    "version_minor": 0
   }
  }
 },
 "nbformat": 4,
 "nbformat_minor": 4
}
